{
 "cells": [
  {
   "cell_type": "code",
   "execution_count": 4,
   "metadata": {},
   "outputs": [
    {
     "ename": "IndexError",
     "evalue": "list index out of range",
     "output_type": "error",
     "traceback": [
      "\u001b[1;31m---------------------------------------------------------------------------\u001b[0m",
      "\u001b[1;31mIndexError\u001b[0m                                Traceback (most recent call last)",
      "Cell \u001b[1;32mIn[4], line 8\u001b[0m\n\u001b[0;32m      1\u001b[0m \u001b[38;5;66;03m# 오류를 처리하는 방법\u001b[39;00m\n\u001b[0;32m      2\u001b[0m \u001b[38;5;66;03m# 먼저 존재하지 않는 파일을 사용하려고 시도했을 때 발생하는 오류\u001b[39;00m\n\u001b[0;32m      3\u001b[0m \u001b[38;5;66;03m# f = open('없는 파일','r') # FileNotFoundError\u001b[39;00m\n\u001b[0;32m      4\u001b[0m \n\u001b[0;32m      5\u001b[0m \u001b[38;5;66;03m# 4 / 0 # ZeroDivisionError   \u001b[39;00m\n\u001b[0;32m      7\u001b[0m a \u001b[38;5;241m=\u001b[39m [\u001b[38;5;241m1\u001b[39m,\u001b[38;5;241m2\u001b[39m,\u001b[38;5;241m3\u001b[39m]\n\u001b[1;32m----> 8\u001b[0m \u001b[43ma\u001b[49m\u001b[43m[\u001b[49m\u001b[38;5;241;43m3\u001b[39;49m\u001b[43m]\u001b[49m\n",
      "\u001b[1;31mIndexError\u001b[0m: list index out of range"
     ]
    }
   ],
   "source": [
    "# 오류를 처리하는 방법\n",
    "# 먼저 존재하지 않는 파일을 사용하려고 시도했을 때 발생하는 오류\n",
    "f = open('없는 파일','r') # FileNotFoundError\n",
    "\n",
    "4 / 0 # ZeroDivisionError   \n",
    "\n",
    "a = [1,2,3]\n",
    "a[3] # IndexError  "
   ]
  },
  {
   "cell_type": "code",
   "execution_count": 5,
   "metadata": {},
   "outputs": [
    {
     "ename": "SyntaxError",
     "evalue": "EOF while scanning triple-quoted string literal (714891499.py, line 17)",
     "output_type": "error",
     "traceback": [
      "\u001b[1;36m  Cell \u001b[1;32mIn[5], line 17\u001b[1;36m\u001b[0m\n\u001b[1;33m    do\u001b[0m\n\u001b[1;37m      \n^\u001b[0m\n\u001b[1;31mSyntaxError\u001b[0m\u001b[1;31m:\u001b[0m EOF while scanning triple-quoted string literal\n"
     ]
    }
   ],
   "source": [
    "# try-except 문 (3개 다 동일한 방법)\n",
    "\n",
    "\"\"\"\n",
    "1.\n",
    "try:\n",
    "    do\n",
    "except [발생 오류 [as 오류_변수]]:\n",
    "    do\n",
    "\n",
    "2.\n",
    "try:\n",
    "    do\n",
    "except 발생 오류:\n",
    "    do\n",
    "    \n",
    "3.\n",
    "try:\n",
    "    do\n",
    "except:\n",
    "    do\n",
    "\"\"\""
   ]
  },
  {
   "cell_type": "code",
   "execution_count": 6,
   "metadata": {},
   "outputs": [
    {
     "name": "stdout",
     "output_type": "stream",
     "text": [
      "division by zero\n"
     ]
    }
   ],
   "source": [
    "try:\n",
    "    4/0\n",
    "except ZeroDivisionError as e:\n",
    "    print(e) # 오류변수 e에 담기는 오류 메세지를 출력함; division by zero"
   ]
  },
  {
   "cell_type": "code",
   "execution_count": null,
   "metadata": {},
   "outputs": [],
   "source": [
    "# try-finally 문\n",
    "# 사용한 리소스를 close 해야 할 때 많이 사용함 (메모리 닫는 거인듯?)\n",
    "try:\n",
    "    f = open('foo.txt','w')\n",
    "    # 무언가를 수행\n",
    "\n",
    "finally:\n",
    "    f.close() #중간에 오류가 나더라도 무조건 실행"
   ]
  },
  {
   "cell_type": "code",
   "execution_count": 8,
   "metadata": {},
   "outputs": [
    {
     "name": "stdout",
     "output_type": "stream",
     "text": [
      "없는 요소 인덱싱하는 거 에바지\n",
      "list index out of range\n",
      "list index out of range\n"
     ]
    }
   ],
   "source": [
    "# 여러 개의 오류 처리하기\n",
    "try:\n",
    "    a = [1,2]\n",
    "    print(a[3])\n",
    "    4/0\n",
    "except ZeroDivisionError:\n",
    "    print('0으로 나누는 거 에바지')\n",
    "except IndexError:\n",
    "    print('없는 요소 인덱싱하는 거 에바지')\n",
    "\n",
    "try:\n",
    "    a = [1,2]\n",
    "    print(a[3])\n",
    "    4/0\n",
    "except ZeroDivisionError as e:\n",
    "    print(e)\n",
    "except IndexError as e:\n",
    "    print(e)\n",
    "\n",
    "try:\n",
    "    a = [1,2]\n",
    "    print(a[3])\n",
    "    4/0\n",
    "except (ZeroDivisionError, IndexError) as e:\n",
    "    print(e)"
   ]
  },
  {
   "cell_type": "code",
   "execution_count": 11,
   "metadata": {},
   "outputs": [
    {
     "name": "stdout",
     "output_type": "stream",
     "text": [
      "입력좀 제대로 해라\n"
     ]
    }
   ],
   "source": [
    "# try-else 문\n",
    "try:\n",
    "    age = int(input('나이 몇살?'))\n",
    "    \n",
    "except:\n",
    "    print('입력좀 제대로 해라')\n",
    "else:\n",
    "    if age <=18:\n",
    "        print('미성년자 에바지')\n",
    "    else:\n",
    "        print('Hi')\n",
    "\n",
    "# 개인적으로 개웃기네 이거"
   ]
  },
  {
   "cell_type": "code",
   "execution_count": 12,
   "metadata": {},
   "outputs": [],
   "source": [
    "# 오류 회피하기\n",
    "# 특정 오류가 발생한 경우 그냥 통과시켜야 할 때\n",
    "try:\n",
    "    f = open('없는 파일', 'r')\n",
    "except FileNotFoundError: #파일이 없더라도 오류가 발생하지 않고 그냥 통과\n",
    "    pass"
   ]
  },
  {
   "cell_type": "code",
   "execution_count": 14,
   "metadata": {},
   "outputs": [
    {
     "ename": "NotImplementedError",
     "evalue": "",
     "output_type": "error",
     "traceback": [
      "\u001b[1;31m---------------------------------------------------------------------------\u001b[0m",
      "\u001b[1;31mNotImplementedError\u001b[0m                       Traceback (most recent call last)",
      "Cell \u001b[1;32mIn[14], line 11\u001b[0m\n\u001b[0;32m      8\u001b[0m     \u001b[38;5;28;01mpass\u001b[39;00m\n\u001b[0;32m     10\u001b[0m eagle \u001b[38;5;241m=\u001b[39m Eagle()\n\u001b[1;32m---> 11\u001b[0m \u001b[43meagle\u001b[49m\u001b[38;5;241;43m.\u001b[39;49m\u001b[43mfly\u001b[49m\u001b[43m(\u001b[49m\u001b[43m)\u001b[49m\n",
      "Cell \u001b[1;32mIn[14], line 6\u001b[0m, in \u001b[0;36mBird.fly\u001b[1;34m(self)\u001b[0m\n\u001b[0;32m      5\u001b[0m \u001b[38;5;28;01mdef\u001b[39;00m \u001b[38;5;21mfly\u001b[39m(\u001b[38;5;28mself\u001b[39m):\n\u001b[1;32m----> 6\u001b[0m     \u001b[38;5;28;01mraise\u001b[39;00m \u001b[38;5;167;01mNotImplementedError\u001b[39;00m\n",
      "\u001b[1;31mNotImplementedError\u001b[0m: "
     ]
    }
   ],
   "source": [
    "# 오류 일부러 발생시키기\n",
    "# 종종 오류를 일부러 발생시켜야 할 경우도 생김. raise를 사용함\n",
    "\n",
    "class Bird:\n",
    "    def fly(self):\n",
    "        raise NotImplementedError # 꼭 작성해야 하는 부분이 구현되지 않았을 경우 일부러 오류를 발생시키기 위해 사용함\n",
    "class Eagle(Bird):\n",
    "    pass\n",
    "\n",
    "eagle = Eagle()\n",
    "eagle.fly()"
   ]
  },
  {
   "cell_type": "code",
   "execution_count": 15,
   "metadata": {},
   "outputs": [
    {
     "name": "stdout",
     "output_type": "stream",
     "text": [
      "very fast\n"
     ]
    }
   ],
   "source": [
    "class Bird:\n",
    "    def fly(self):\n",
    "        print('very fast')\n",
    "class Eagle(Bird):\n",
    "    pass\n",
    "\n",
    "eagle = Eagle()\n",
    "eagle.fly()"
   ]
  },
  {
   "cell_type": "code",
   "execution_count": 16,
   "metadata": {},
   "outputs": [
    {
     "name": "stdout",
     "output_type": "stream",
     "text": [
      "천사\n"
     ]
    },
    {
     "ename": "MyError",
     "evalue": "",
     "output_type": "error",
     "traceback": [
      "\u001b[1;31m---------------------------------------------------------------------------\u001b[0m",
      "\u001b[1;31mMyError\u001b[0m                                   Traceback (most recent call last)",
      "Cell \u001b[1;32mIn[16], line 11\u001b[0m\n\u001b[0;32m      8\u001b[0m     \u001b[38;5;28mprint\u001b[39m(nick)\n\u001b[0;32m     10\u001b[0m say_nick(\u001b[38;5;124m'\u001b[39m\u001b[38;5;124m천사\u001b[39m\u001b[38;5;124m'\u001b[39m)\n\u001b[1;32m---> 11\u001b[0m \u001b[43msay_nick\u001b[49m\u001b[43m(\u001b[49m\u001b[38;5;124;43m'\u001b[39;49m\u001b[38;5;124;43m바보\u001b[39;49m\u001b[38;5;124;43m'\u001b[39;49m\u001b[43m)\u001b[49m\n",
      "Cell \u001b[1;32mIn[16], line 7\u001b[0m, in \u001b[0;36msay_nick\u001b[1;34m(nick)\u001b[0m\n\u001b[0;32m      5\u001b[0m \u001b[38;5;28;01mdef\u001b[39;00m \u001b[38;5;21msay_nick\u001b[39m(nick):\n\u001b[0;32m      6\u001b[0m     \u001b[38;5;28;01mif\u001b[39;00m nick \u001b[38;5;241m==\u001b[39m \u001b[38;5;124m'\u001b[39m\u001b[38;5;124m바보\u001b[39m\u001b[38;5;124m'\u001b[39m:\n\u001b[1;32m----> 7\u001b[0m         \u001b[38;5;28;01mraise\u001b[39;00m MyError()\n\u001b[0;32m      8\u001b[0m     \u001b[38;5;28mprint\u001b[39m(nick)\n",
      "\u001b[1;31mMyError\u001b[0m: "
     ]
    }
   ],
   "source": [
    "# 예외 만들기\n",
    "class MyError(Exception): # Exception 클래스를 상속해서 만듦\n",
    "    pass\n",
    "\n",
    "def say_nick(nick):\n",
    "    if nick == '바보':\n",
    "        raise MyError()\n",
    "    print(nick)\n",
    "\n",
    "say_nick('천사')\n",
    "say_nick('바보') #여기서 My error가 raise 됨"
   ]
  },
  {
   "cell_type": "code",
   "execution_count": 45,
   "metadata": {},
   "outputs": [
    {
     "name": "stdout",
     "output_type": "stream",
     "text": [
      "천사\n",
      "Error: 허용되지 않는 별명입니다\n"
     ]
    }
   ],
   "source": [
    "# 예외 만들기\n",
    "class MyError(Exception): # Exception 클래스를 상속해서 만듦\n",
    "    pass\n",
    "\n",
    "def say_nick(nick):\n",
    "    if nick == '바보':\n",
    "        raise MyError()\n",
    "    print(nick)\n",
    "\n",
    "try:\n",
    "    say_nick('천사')\n",
    "    say_nick('바보') #여기서 My error가 raise 됨\n",
    "except MyError:\n",
    "    print('Error: 허용되지 않는 별명입니다')"
   ]
  },
  {
   "cell_type": "code",
   "execution_count": 46,
   "metadata": {},
   "outputs": [
    {
     "name": "stdout",
     "output_type": "stream",
     "text": [
      "천사\n",
      "\n"
     ]
    }
   ],
   "source": [
    "try:\n",
    "    say_nick('천사')\n",
    "    say_nick('바보') #여기서 My error가 raise 됨\n",
    "except MyError as e:\n",
    "    print(e)\n",
    "\n",
    "# 이렇게 하면 에러가 출력되지 않음."
   ]
  },
  {
   "cell_type": "code",
   "execution_count": 47,
   "metadata": {},
   "outputs": [
    {
     "name": "stdout",
     "output_type": "stream",
     "text": [
      "천사\n",
      "Error: 허용되지 않는 별명입니다\n"
     ]
    }
   ],
   "source": [
    "# 오류 클메세지를 출력했을 때 오류 메세지가 보이게 하려면 오류 클래스에 다음과 같은 __str__ 메서드를 구현해야함\n",
    "# 이 메서드는 print(e) 처럼 오류 메세지를 print 문으로 출력할 경우에 호출되는 메서드임\n",
    "class MyError(Exception):\n",
    "    def __str__(self):\n",
    "        return '허용되지 않는 별명입니다'\n",
    "    \n",
    "try:\n",
    "    say_nick('천사')\n",
    "    say_nick('바보') #여기서 My error가 raise 됨\n",
    "except MyError:\n",
    "    print('Error: 허용되지 않는 별명입니다')"
   ]
  }
 ],
 "metadata": {
  "kernelspec": {
   "display_name": "new_project",
   "language": "python",
   "name": "python3"
  },
  "language_info": {
   "codemirror_mode": {
    "name": "ipython",
    "version": 3
   },
   "file_extension": ".py",
   "mimetype": "text/x-python",
   "name": "python",
   "nbconvert_exporter": "python",
   "pygments_lexer": "ipython3",
   "version": "3.8.19"
  }
 },
 "nbformat": 4,
 "nbformat_minor": 2
}
