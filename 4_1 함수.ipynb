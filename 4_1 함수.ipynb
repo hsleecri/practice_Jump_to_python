{
 "cells": [
  {
   "cell_type": "code",
   "execution_count": 13,
   "metadata": {},
   "outputs": [
    {
     "name": "stdout",
     "output_type": "stream",
     "text": [
      "hi\n",
      "don't make any noise\n",
      "4\n",
      "4\n",
      "-4\n",
      "6\n",
      "45\n",
      "{'a': 1}\n",
      "{'a': 1, 'b': 3, 'c': 'crack'}\n"
     ]
    }
   ],
   "source": [
    "# 입력과 출력이 있는 함수 y=f(x) 같이\n",
    "# 반복되는 부분이 있는 경우, 반복적으로 사용되는 가치 있는 부분이 있을 때 함수가 필요한 때임\n",
    "# 기능 단위로 분리해놓으면 일목요연하게 볼 수 있음\n",
    "\n",
    "def add(a,b):\n",
    "    \"\"\"\n",
    "    a와 b는 parameter or argument 라고 불림\n",
    "    \"\"\"\n",
    "    return a+b\n",
    "\n",
    "# 이렇게 파라미터가 없는 함수도 있음\n",
    "def say():\n",
    "    return \"hi\"\n",
    "\n",
    "a = say() # a는 리턴값을 받을 변수\n",
    "print(a)\n",
    "\n",
    "# 이렇게 리턴값이 없는 함수도 있음\n",
    "def say():\n",
    "    print('don\\'t make any noise')\n",
    "say()\n",
    "\n",
    "# 파라미터를 지정하여 호출휴ㅏ는 것\n",
    "\n",
    "def sub(a,b):\n",
    "    return a-b\n",
    "\n",
    "result = sub(a=7, b=3)\n",
    "result = sub(7, 3)\n",
    "result2 = sub(b=3, a=7) #파라미터 순서 섞어쓸 수 있음 이렇게 지정하면\n",
    "result3 = sub(3, 7) # 지정하지않으면 순서대로 써야 함\n",
    "print(result)\n",
    "print(result2)\n",
    "print(result3)\n",
    "\n",
    "# 입력값이 몇 개 일지 모를 경우에는 *args를 쓴다! 모든 arguments를 말하는듯\n",
    "def add_many(*args):\n",
    "    result = 0\n",
    "    for i in args:\n",
    "        result += i\n",
    "    return result\n",
    "\n",
    "result4 = add_many(1,2,3)\n",
    "print(result4)\n",
    "\n",
    "result5 = add_many(1,2,3,4,5,6,7,8,9)\n",
    "print(result5)\n",
    "\n",
    "# 키워드 매개변수\n",
    "def print_kwargs(**kwargs):\n",
    "    print(kwargs)\n",
    "\n",
    "print_kwargs(a=1)\n",
    "\n",
    "print_kwargs(a=1,b=3,c='crack')\n",
    "# 이렇게 파라미터 이름은 key, 그리고 값을 value로 한 딕셔너리 형태로 출력해줌 **kwargs는, keyword arguments"
   ]
  },
  {
   "cell_type": "code",
   "execution_count": 8,
   "metadata": {},
   "outputs": [
    {
     "name": "stdout",
     "output_type": "stream",
     "text": [
      "(9, 20)\n",
      "7\n",
      "12\n",
      "7\n"
     ]
    }
   ],
   "source": [
    "# 리턴값은 언제나 하나\n",
    "\n",
    "def add_and_mul(a,b):\n",
    "    return a+b, a*b\n",
    "\n",
    "def add_and_mul2(a,b):\n",
    "    return a+b\n",
    "    return a*b\n",
    "\n",
    "result = add_and_mul(5,4)\n",
    "print(result) # 에러가 나는대신 튜플로 받아옴\n",
    "# 분리해서 리턴값을 받고 싶다면\n",
    "\n",
    "result1, result2 = add_and_mul(4,3)\n",
    "print(result1)\n",
    "print(result2)\n",
    "\n",
    "result3 = add_and_mul2(4,3)\n",
    "print(result3) # 가장 위에 있는 것만 입력됨"
   ]
  },
  {
   "cell_type": "code",
   "execution_count": 12,
   "metadata": {},
   "outputs": [
    {
     "name": "stdout",
     "output_type": "stream",
     "text": [
      "나의 이름은 홍길동입니다.\n",
      "나이는 18 입니다.\n",
      "남자입니다.\n",
      "나의 이름은 홍길순입니다.\n",
      "나이는 20 입니다.\n",
      "남자입니다.\n"
     ]
    }
   ],
   "source": [
    "# 파라미터에 초깃값 먼저 설정하기\n",
    "\n",
    "def say_myself(name, age, man=True):\n",
    "    print(f\"나의 이름은 {name}입니다.\")\n",
    "    print(f\"나이는 {age} 입니다.\")\n",
    "    if man:\n",
    "        print('남자입니다.')\n",
    "    else:\n",
    "        print('여자입니다.')\n",
    "\n",
    "say_myself('홍길동', 18) # 파라미터를 입력안해도 기본값이 들어가는구나! 몰랐네\n",
    "say_myself('홍길순', 20, True)"
   ]
  },
  {
   "cell_type": "code",
   "execution_count": 13,
   "metadata": {},
   "outputs": [
    {
     "ename": "SyntaxError",
     "evalue": "non-default argument follows default argument (4218831832.py, line 3)",
     "output_type": "error",
     "traceback": [
      "\u001b[1;36m  Cell \u001b[1;32mIn[13], line 3\u001b[1;36m\u001b[0m\n\u001b[1;33m    def say_myself(name, man=True, age):\u001b[0m\n\u001b[1;37m                   ^\u001b[0m\n\u001b[1;31mSyntaxError\u001b[0m\u001b[1;31m:\u001b[0m non-default argument follows default argument\n"
     ]
    }
   ],
   "source": [
    "# 파라미터에 초깃값 설정할때 순서 중요함\n",
    "\n",
    "def say_myself(name, man=True, age):\n",
    "    print(f\"나의 이름은 {name}입니다.\")\n",
    "    print(f\"나이는 {age} 입니다.\")\n",
    "    if man:\n",
    "        print('남자입니다.')\n",
    "    else:\n",
    "        print('여자입니다.')\n",
    "\n",
    "say_myself('홍길동', 27) # 이렇게 되면 27을 man에 넣어야할지 age에 넣어야할지 헷갈리니까\n",
    "\n",
    "\"\"\"\n",
    "{\n",
    "\t\"name\": \"SyntaxError\",\n",
    "\t\"message\": \"non-default argument follows default argument (4218831832.py, line 3)\",\n",
    "\t\"stack\": \"  Cell In[13], line 3\n",
    "    def say_myself(name, man=True, age):\n",
    "                   ^\n",
    "SyntaxError: non-default argument follows default argument\n",
    "\"\n",
    "}\n",
    "\"\"\"\n",
    "\n",
    "# 초깃값이 있는 파라미터는 초깃값이 없는 파라마터보다 항상 뒤에 있어야함!!"
   ]
  },
  {
   "cell_type": "code",
   "execution_count": 25,
   "metadata": {},
   "outputs": [
    {
     "name": "stdout",
     "output_type": "stream",
     "text": [
      "2\n"
     ]
    }
   ],
   "source": [
    "# 함수 안에서 선언한 변수의 효력 범위\n",
    "\n",
    "a = 1\n",
    "def vartest(a):\n",
    "    a+= 1\n",
    "\n",
    "vartest(a) #여기서 파라미터로 들어가는 선언된 a와 다름\n",
    "\n",
    "def vartest(num): \n",
    "    num+= 1  #이런거랑 똑같음\n",
    "print(a)\n",
    "# 2가 출력될 것 같지만 1이 출력됨. 리턴하진 않고, 변수 선언이 안됐으니까."
   ]
  },
  {
   "cell_type": "code",
   "execution_count": 26,
   "metadata": {},
   "outputs": [
    {
     "name": "stdout",
     "output_type": "stream",
     "text": [
      "2\n"
     ]
    }
   ],
   "source": [
    "# 함수 안에서 선언한 변수의 효력 범위\n",
    "\n",
    "a = 1\n",
    "def vartest(a):\n",
    "    a+= 1\n",
    "    return a\n",
    "\n",
    "a = vartest(a)\n",
    "\n",
    "print(a)\n",
    "# 이렇게 해야 2가 출력됨"
   ]
  },
  {
   "cell_type": "code",
   "execution_count": 27,
   "metadata": {},
   "outputs": [
    {
     "name": "stdout",
     "output_type": "stream",
     "text": [
      "2\n"
     ]
    }
   ],
   "source": [
    "# 또는, global 을 사용함\n",
    "\n",
    "a = 1\n",
    "def vartest():\n",
    "    global a\n",
    "    a+=1\n",
    "\n",
    "vartest()\n",
    "print(a)\n",
    "\n",
    "# 미리 선언된 변수를 함수 변수로 사용하고 통일시키는 것 같음. 근데 이건 되도록 피하자."
   ]
  },
  {
   "cell_type": "code",
   "execution_count": 29,
   "metadata": {},
   "outputs": [
    {
     "name": "stdout",
     "output_type": "stream",
     "text": [
      "7\n",
      "7\n"
     ]
    }
   ],
   "source": [
    "# lambda 예약어\n",
    "# def 와 동일한 역할을 하지만 한줄로 간결하게 만들때 사용함.\n",
    "# def를 사용해야 할 정도로 복잡하지 않거나 def 를 사용할 수 없는 곳\n",
    "\n",
    "add = lambda a,b: a+b\n",
    "result = add(3,4)\n",
    "print(result)\n",
    "\n",
    "# 리턴값이 없어도 결과값 리턴함\n",
    "\n",
    "def add(a,b):\n",
    "    return a+b\n",
    "result = add(3,4)\n",
    "print(result)"
   ]
  }
 ],
 "metadata": {
  "kernelspec": {
   "display_name": "new_project",
   "language": "python",
   "name": "python3"
  },
  "language_info": {
   "codemirror_mode": {
    "name": "ipython",
    "version": 3
   },
   "file_extension": ".py",
   "mimetype": "text/x-python",
   "name": "python",
   "nbconvert_exporter": "python",
   "pygments_lexer": "ipython3",
   "version": "3.8.19"
  }
 },
 "nbformat": 4,
 "nbformat_minor": 2
}
