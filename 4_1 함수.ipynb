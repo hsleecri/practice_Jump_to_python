{
 "cells": [
  {
   "cell_type": "code",
   "execution_count": 13,
   "metadata": {},
   "outputs": [
    {
     "name": "stdout",
     "output_type": "stream",
     "text": [
      "hi\n",
      "don't make any noise\n",
      "4\n",
      "4\n",
      "-4\n",
      "6\n",
      "45\n",
      "{'a': 1}\n",
      "{'a': 1, 'b': 3, 'c': 'crack'}\n"
     ]
    }
   ],
   "source": [
    "# 입력과 출력이 있는 함수 y=f(x) 같이\n",
    "# 반복되는 부분이 있는 경우, 반복적으로 사용되는 가치 있는 부분이 있을 때 함수가 필요한 때임\n",
    "# 기능 단위로 분리해놓으면 일목요연하게 볼 수 있음\n",
    "\n",
    "def add(a,b):\n",
    "    \"\"\"\n",
    "    a와 b는 parameter or argument 라고 불림\n",
    "    \"\"\"\n",
    "    return a+b\n",
    "\n",
    "# 이렇게 파라미터가 없는 함수도 있음\n",
    "def say():\n",
    "    return \"hi\"\n",
    "\n",
    "a = say() # a는 리턴값을 받을 변수\n",
    "print(a)\n",
    "\n",
    "# 이렇게 리턴값이 없는 함수도 있음\n",
    "def say():\n",
    "    print('don\\'t make any noise')\n",
    "say()\n",
    "\n",
    "# 파라미터를 지정하여 호출휴ㅏ는 것\n",
    "\n",
    "def sub(a,b):\n",
    "    return a-b\n",
    "\n",
    "result = sub(a=7, b=3)\n",
    "result = sub(7, 3)\n",
    "result2 = sub(b=3, a=7) #파라미터 순서 섞어쓸 수 있음 이렇게 지정하면\n",
    "result3 = sub(3, 7) # 지정하지않으면 순서대로 써야 함\n",
    "print(result)\n",
    "print(result2)\n",
    "print(result3)\n",
    "\n",
    "# 입력값이 몇 개 일지 모를 경우에는 *args를 쓴다! 모든 arguments를 말하는듯\n",
    "def add_many(*args):\n",
    "    result = 0\n",
    "    for i in args:\n",
    "        result += i\n",
    "    return result\n",
    "\n",
    "result4 = add_many(1,2,3)\n",
    "print(result4)\n",
    "\n",
    "result5 = add_many(1,2,3,4,5,6,7,8,9)\n",
    "print(result5)\n",
    "\n",
    "# 키워드 매개변수\n",
    "def print_kwargs(**kwargs):\n",
    "    print(kwargs)\n",
    "\n",
    "print_kwargs(a=1)\n",
    "\n",
    "print_kwargs(a=1,b=3,c='crack')\n",
    "# 이렇게 파라미터 이름은 key, 그리고 값을 value로 한 딕셔너리 형태로 출력해줌 **kwargs는, keyword arguments"
   ]
  }
 ],
 "metadata": {
  "kernelspec": {
   "display_name": "new_project",
   "language": "python",
   "name": "python3"
  },
  "language_info": {
   "codemirror_mode": {
    "name": "ipython",
    "version": 3
   },
   "file_extension": ".py",
   "mimetype": "text/x-python",
   "name": "python",
   "nbconvert_exporter": "python",
   "pygments_lexer": "ipython3",
   "version": "3.8.19"
  }
 },
 "nbformat": 4,
 "nbformat_minor": 2
}
