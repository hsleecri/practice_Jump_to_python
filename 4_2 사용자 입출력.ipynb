{
 "cells": [
  {
   "cell_type": "code",
   "execution_count": 2,
   "metadata": {},
   "outputs": [
    {
     "name": "stdout",
     "output_type": "stream",
     "text": [
      "Life is too short, you need python\n"
     ]
    }
   ],
   "source": [
    "# 사용자의 입출력을 받기\n",
    "a = input()\n",
    "print(a) #문자열로 저장함!"
   ]
  },
  {
   "cell_type": "code",
   "execution_count": 3,
   "metadata": {},
   "outputs": [
    {
     "name": "stdout",
     "output_type": "stream",
     "text": [
      "3\n"
     ]
    }
   ],
   "source": [
    "# 프롬프트를 띄워 사용자 입력받기\n",
    "number = input('숫자를 입력하세요:')\n",
    "print(number)"
   ]
  },
  {
   "cell_type": "code",
   "execution_count": 4,
   "metadata": {},
   "outputs": [
    {
     "data": {
      "text/plain": [
       "str"
      ]
     },
     "execution_count": 4,
     "metadata": {},
     "output_type": "execute_result"
    }
   ],
   "source": [
    "type(number) #이렇게 문자열로 저장된 걸 알 수 있음"
   ]
  },
  {
   "cell_type": "code",
   "execution_count": 7,
   "metadata": {},
   "outputs": [
    {
     "name": "stdout",
     "output_type": "stream",
     "text": [
      "lifeistoo short\n",
      "lifeistoo short\n",
      "life is too short\n"
     ]
    }
   ],
   "source": [
    "# 프린트문\n",
    "print(\"life\" \"is\" \"too short\") #그냥 덧셈처럼 바로 붙여짐\n",
    "print(\"life\"+'is'+'too short') #둘이 똑같은 걸 볼 수 있음\n",
    "\n",
    "# 띄어쓰기는 반드시 쉼표로 함\n",
    "print(\"life\",'is','too short')"
   ]
  },
  {
   "cell_type": "code",
   "execution_count": 8,
   "metadata": {},
   "outputs": [
    {
     "name": "stdout",
     "output_type": "stream",
     "text": [
      "0 1 2 3 4 5 6 7 8 9 "
     ]
    }
   ],
   "source": [
    "# 한줄에 결과값 출력하기\n",
    "for i in range(10):\n",
    "    print(i, end= ' ') # 파라미터 end에 ' ' 를 넣으면 default (\\n) 대신 계속 옆으로 append 됨"
   ]
  }
 ],
 "metadata": {
  "kernelspec": {
   "display_name": "new_project",
   "language": "python",
   "name": "python3"
  },
  "language_info": {
   "codemirror_mode": {
    "name": "ipython",
    "version": 3
   },
   "file_extension": ".py",
   "mimetype": "text/x-python",
   "name": "python",
   "nbconvert_exporter": "python",
   "pygments_lexer": "ipython3",
   "version": "3.8.19"
  }
 },
 "nbformat": 4,
 "nbformat_minor": 2
}
