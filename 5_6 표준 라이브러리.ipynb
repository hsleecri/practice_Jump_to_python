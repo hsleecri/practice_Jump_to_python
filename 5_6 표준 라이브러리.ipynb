{
 "cells": [
  {
   "cell_type": "code",
   "execution_count": null,
   "metadata": {},
   "outputs": [],
   "source": [
    "# 유용한 프로그램을 모아 놓은 것\n",
    "# 모든 라이브러리를 다 알 필요는 없지만 어떤 일을 할 때 어떤 라이브러리를 사용해야 한다는 정도만 알면 됨\n",
    "# 자주 사용되고 꼭 알아 두면 좋은 라이브러리들"
   ]
  },
  {
   "cell_type": "code",
   "execution_count": 8,
   "metadata": {},
   "outputs": [
    {
     "data": {
      "text/plain": [
       "2"
      ]
     },
     "execution_count": 8,
     "metadata": {},
     "output_type": "execute_result"
    }
   ],
   "source": [
    "# datetime.date :  연, 월, 일로 날짜를 표현할 때 사용하는 함수\n",
    "\n",
    "import datetime\n",
    "\n",
    "day1 = datetime.date(2021,12,14)\n",
    "day2 = datetime.date(2023,4,5)\n",
    "\n",
    "diff = day2 - day1 # 객체 리턴\n",
    "diff.days  # 객체에서 days 함수를 쓰니 둘의 차이만큼의 일수가 나옴\n",
    "day1.weekday() # 무슨 요일인지, 0이 월요일, 1이 화요일, 쭉해서 6이 일요일\n",
    "\n",
    "day1.isoweekday() # 이거는 weekday()에서 1씩 더한 거 (i.e., 월요일이 1, 일요일이 7)"
   ]
  },
  {
   "cell_type": "code",
   "execution_count": 44,
   "metadata": {},
   "outputs": [
    {
     "name": "stdout",
     "output_type": "stream",
     "text": [
      "0\n",
      "1\n",
      "2\n",
      "3\n",
      "4\n",
      "5\n",
      "6\n",
      "7\n",
      "8\n",
      "9\n"
     ]
    }
   ],
   "source": [
    "# time 시간과 관련된 모듈\n",
    "\n",
    "import time\n",
    "time.time() # 1970년 1월 1일 0시0분0초를 기준으로 지난 시간을 초단위로 리턴해놓은 것\n",
    "\n",
    "time.localtime(time.time()) # 연, 월, 시 분, 초 형태로 리턴함\n",
    "\n",
    "time.asctime(time.localtime(time.time())) # 알아보기 쉬운 형태로 리턴\n",
    "\n",
    "time.ctime() # 위를 간단하게 표현한 건\n",
    "\n",
    "time.strftime('') # 이건 패스\n",
    "\n",
    "time.sleep(1) # 실행을 delay 할 때 사용 됨\n",
    "\n",
    "for i in range(10):\n",
    "    print(i)\n",
    "    time.sleep(i)"
   ]
  },
  {
   "cell_type": "code",
   "execution_count": 46,
   "metadata": {},
   "outputs": [
    {
     "ename": "AttributeError",
     "evalue": "module 'math' has no attribute 'lcm'",
     "output_type": "error",
     "traceback": [
      "\u001b[1;31m---------------------------------------------------------------------------\u001b[0m",
      "\u001b[1;31mAttributeError\u001b[0m                            Traceback (most recent call last)",
      "Cell \u001b[1;32mIn[46], line 3\u001b[0m\n\u001b[0;32m      1\u001b[0m \u001b[38;5;28;01mimport\u001b[39;00m \u001b[38;5;21;01mmath\u001b[39;00m\n\u001b[0;32m      2\u001b[0m math\u001b[38;5;241m.\u001b[39mgcd(\u001b[38;5;241m50\u001b[39m,\u001b[38;5;241m120\u001b[39m) \u001b[38;5;66;03m# 최대 공약수\u001b[39;00m\n\u001b[1;32m----> 3\u001b[0m \u001b[43mmath\u001b[49m\u001b[38;5;241;43m.\u001b[39;49m\u001b[43mlcm\u001b[49m(\u001b[38;5;241m4\u001b[39m,\u001b[38;5;241m9\u001b[39m)\n",
      "\u001b[1;31mAttributeError\u001b[0m: module 'math' has no attribute 'lcm'"
     ]
    }
   ],
   "source": [
    "import math\n",
    "math.gcd(50,120) # 최대 공약수\n",
    "math.lcm() #이건 파이썬3.9부터됨"
   ]
  },
  {
   "cell_type": "code",
   "execution_count": 88,
   "metadata": {},
   "outputs": [
    {
     "name": "stdout",
     "output_type": "stream",
     "text": [
      "1\n",
      "2\n",
      "5\n",
      "4\n",
      "3\n"
     ]
    },
    {
     "data": {
      "text/plain": [
       "[1, 3, 5]"
      ]
     },
     "execution_count": 88,
     "metadata": {},
     "output_type": "execute_result"
    }
   ],
   "source": [
    "import random # 난수 발생시키는 모듈\n",
    "random.random() #  0 과 1 사이의 실수 중에서 난수를 리턴함\n",
    "\n",
    "random.randint(1,10) # 1과 10 사이의 랜덤정수 (rand+int)를 리턴함\n",
    "random.randint(1,55)\n",
    "\n",
    "def random_pop(data):\n",
    "    number = random.randint(0,len(data)-1)\n",
    "    return data.pop(number)\n",
    "if __name__ == '__main__':\n",
    "    data = [1,2,3,4,5]\n",
    "    while data:\n",
    "        print(random_pop(data))\n",
    "\n",
    "def random_pop(data):\n",
    "    number = random.choice(data) # 입력 받은 리스트에서 무작위로 하나 선택해새ㅓ ㅓ리턴\n",
    "    data.remove(number)\n",
    "    return number\n",
    "\n",
    "data = [1,2,3,4,5]\n",
    "random.sample(data,len(data)) # 리스트 요소들 섞어서 len(data)만큼의 요스들을 리스트로 묶어서 다시 리턴\n",
    "random.sample(data,3)"
   ]
  },
  {
   "cell_type": "code",
   "execution_count": 149,
   "metadata": {},
   "outputs": [
    {
     "name": "stdout",
     "output_type": "stream",
     "text": [
      "[('현수', '뿌셔뿌셔'), ('민수', '신라면'), ('기백', '너구리')]\n",
      "[('현수', '뿌셔뿌셔'), ('민수', '신라면'), ('기백', '너구리'), ('예수', '초코송이'), ('부처', '초코송이')]\n",
      "12\n",
      "13\n",
      "21\n",
      "23\n",
      "31\n",
      "32\n"
     ]
    },
    {
     "data": {
      "text/plain": [
       "6"
      ]
     },
     "execution_count": 149,
     "metadata": {},
     "output_type": "execute_result"
    }
   ],
   "source": [
    "# itertools.zip_longest\n",
    "\n",
    "students = ['현수','민수','기백','예수','부처']\n",
    "snacks = ['뿌셔뿌셔', '신라면', '너구리']\n",
    "\n",
    "result = zip(students, snacks)\n",
    "print(list(result)) #이렇게 튜플로 묶는 거구나 두 리스트를 튜플 원소로, 근데 students 가 많아서 예수랑 부처는 안 묶이네\n",
    "\n",
    "import itertools\n",
    "\n",
    "result2 = itertools.zip_longest(students, snacks, fillvalue='초코송이')\n",
    "print(list(result2)) # 이걸 사용하면 예수랑 부처도 filevalue로 같이 묶이게 됨 \n",
    "\n",
    "# 반복 가능한 객체 중에서 r개를 선택한 순열을 리턴하는 것\n",
    "list(itertools.permutations(['1','2','3'],2)) #아 모든 조합을 뽑는 거구\n",
    "\n",
    "for a, b in itertools.permutations(['1','2','3'],2):\n",
    "    print(a+b) #지금 string끼리 붙여져있다는 걸 생각~\n",
    "\n",
    "it = itertools.combinations(range(1,46),6)\n",
    "for num in it:\n",
    "    # print(num)\n",
    "    pass\n",
    "\n",
    "len(list(itertools.combinations(range(1,46),6))) # 45개에서 6개를 선택한 조합은 8145060\n",
    "len(list(itertools.combinations(range(1,5),2))) # 4개에서 2개를 선택한 조합은 6 (=4! / 2!/2!) 4C2랑 똑같은듯"
   ]
  },
  {
   "cell_type": "code",
   "execution_count": 3,
   "metadata": {},
   "outputs": [
    {
     "name": "stdout",
     "output_type": "stream",
     "text": [
      "15\n",
      "15\n"
     ]
    }
   ],
   "source": [
    "# functotols\n",
    "\n",
    "def add(data):\n",
    "    result = 0\n",
    "    for i in data:\n",
    "        result +=i\n",
    "    return result\n",
    "\n",
    "data = [1,2,3,4,5]\n",
    "result = add(data)\n",
    "print(result)\n",
    "\n",
    "import functools\n",
    "\n",
    "result2 = functools.reduce(lambda x,y: x+y, data) # 반복 가능한 객체 요소에 차례대로 왼쪽에서 오른쪽으로 하나의 값으로 줄이는 함수\n",
    "print(result2)"
   ]
  },
  {
   "cell_type": "code",
   "execution_count": 7,
   "metadata": {},
   "outputs": [
    {
     "name": "stdout",
     "output_type": "stream",
     "text": [
      "[('sally', 17, 'b'), ('jane', 22, 'a'), ('dave', 32, 'b')]\n",
      "[{'name': 'sally', 'age': '17', 'grade': 'b'}, {'name': 'jane', 'age': '22', 'grade': 'a'}, {'name': 'dave', 'age': '32', 'grade': 'b'}]\n"
     ]
    }
   ],
   "source": [
    "# operator: key 같은 매개변수에 적용함\n",
    "\n",
    "students = [\n",
    "    ('jane',22,'a'),\n",
    "    ('dave',32,'b'),\n",
    "    ('sally',17,'b')\n",
    "]\n",
    "\n",
    "from operator import itemgetter\n",
    "\n",
    "result = sorted(students, key=itemgetter(1)) # 아 1번 인덱스 (22, 32, 17)에 따라 안에 요소들을 sorted 한 거구나\n",
    "print(result)\n",
    "\n",
    "students2 =[\n",
    "    {'name':'jane','age':'22','grade':'a'},\n",
    "    {'name':'dave','age':'32','grade':'b'},\n",
    "    {'name':'sally','age':'17','grade':'b'}\n",
    "]\n",
    "\n",
    "result2 = sorted(students2, key=itemgetter('age')) # key 값을 'age'로 맞춰주고 해당 key의 value값에 따라 sorted 하는 것\n",
    "print(result2) # key값을 마주처주는 것"
   ]
  },
  {
   "cell_type": "code",
   "execution_count": 20,
   "metadata": {},
   "outputs": [],
   "source": [
    "from operator import attrgetter\n",
    "\n",
    "class Student:\n",
    "    def __init__(self, name, age, grade):\n",
    "        self.name = name\n",
    "        self.age = age\n",
    "        self.grade = grade\n",
    "\n",
    "students = [\n",
    "    Student('jane',22,'a'),\n",
    "    Student('dave',32,'b'),\n",
    "    Student('sally',17,'b')\n",
    "]\n",
    "\n",
    "result = sorted(students, key=attrgetter('age')) # key 대신 attribute 사용"
   ]
  },
  {
   "cell_type": "code",
   "execution_count": null,
   "metadata": {},
   "outputs": [],
   "source": [
    "# shutil: 파일을 복사하거나 이동할 때 사용하는 모듈\n",
    "\n",
    "import shutil\n",
    "\n",
    "shutil.copy('')\n"
   ]
  },
  {
   "cell_type": "code",
   "execution_count": 29,
   "metadata": {},
   "outputs": [
    {
     "data": {
      "text/plain": [
       "['2_2_문자열자료형.ipynb',\n",
       " '2_3 리스트자료형.ipynb',\n",
       " '2_4 튜플 자료형.ipynb',\n",
       " '2_5 딕셔너리 자료형.ipynb',\n",
       " '2_6 집합 자료형.ipynb',\n",
       " '2_7 bool 자료형.ipynb',\n",
       " '2_8 변수.ipynb',\n",
       " '2_되새김 문제.ipynb']"
      ]
     },
     "execution_count": 29,
     "metadata": {},
     "output_type": "execute_result"
    }
   ],
   "source": [
    "# glob: 이건 좀 많이 썼던 거 같아. 파일을 읽고 쓰는 기능이 있음.\n",
    "\n",
    "import glob\n",
    "glob.glob('2*') #2로 시작하는 파일 경로들에 있는 파일들 다 찾은 거"
   ]
  },
  {
   "cell_type": "code",
   "execution_count": 35,
   "metadata": {},
   "outputs": [
    {
     "name": "stdout",
     "output_type": "stream",
     "text": [
      "{1: 'python', 2: 'you need'}\n"
     ]
    }
   ],
   "source": [
    "# pickle: 객체의 형태를 그대로 유지하면서 파일에 저장하고 불러올 수 있게 하는 모듈\n",
    "\n",
    "import pickle\n",
    "f = open('test.txt','wb')\n",
    "data = {1: 'python',2:'you need'}\n",
    "pickle.dump(data, f) #저장하는 것\n",
    "f.close()\n",
    "\n",
    "f = open('test.txt','rb')\n",
    "data = pickle.load(f)\n",
    "print(data)"
   ]
  },
  {
   "cell_type": "code",
   "execution_count": 38,
   "metadata": {},
   "outputs": [
    {
     "data": {
      "text/plain": [
       "'c:\\\\Users\\\\hslee\\\\miniconda3\\\\envs\\\\new_project;C:\\\\Users\\\\hslee\\\\miniconda3\\\\envs\\\\new_project;C:\\\\Users\\\\hslee\\\\miniconda3\\\\envs\\\\new_project\\\\Library\\\\mingw-w64\\\\bin;C:\\\\Users\\\\hslee\\\\miniconda3\\\\envs\\\\new_project\\\\Library\\\\usr\\\\bin;C:\\\\Users\\\\hslee\\\\miniconda3\\\\envs\\\\new_project\\\\Library\\\\bin;C:\\\\Users\\\\hslee\\\\miniconda3\\\\envs\\\\new_project\\\\Scripts;C:\\\\Users\\\\hslee\\\\miniconda3\\\\envs\\\\new_project\\\\bin;C:\\\\Users\\\\hslee\\\\miniconda3\\\\condabin;C:\\\\Program Files\\\\NVIDIA GPU Computing Toolkit\\\\CUDA\\\\v12.3\\\\extras;C:\\\\Program Files\\\\NVIDIA GPU Computing Toolkit\\\\CUDA\\\\v12.3\\\\bin;C:\\\\Program Files (x86)\\\\NVIDIA Corporation\\\\PhysX\\\\Common;C:\\\\Users\\\\hslee\\\\AppData\\\\Local\\\\Programs\\\\Python\\\\Python39;C:\\\\Program Files\\\\Oculus\\\\Support\\\\oculus-runtime;C:\\\\Windows\\\\system32;C:\\\\Windows;C:\\\\Windows\\\\System32\\\\Wbem;C:\\\\Windows\\\\System32\\\\WindowsPowerShell\\\\v1.0;C:\\\\Windows\\\\System32\\\\OpenSSH;C:\\\\Program Files\\\\Microsoft SQL Server\\\\150\\\\Tools\\\\Binn;C:\\\\Program Files\\\\Git\\\\cmd;C:\\\\Program Files\\\\NVIDIA Corporation\\\\NVIDIA NvDLISR;.;C:\\\\Program Files\\\\Git LFS;C:\\\\Program Files\\\\CMake\\\\bin;C:\\\\Users\\\\hslee\\\\AppData\\\\Local\\\\Microsoft\\\\WindowsApps;C:\\\\Users\\\\hslee\\\\AppData\\\\Local\\\\Programs\\\\Microsoft VS Code\\\\bin;C:\\\\Program Files\\\\ffmpeg\\\\bin;C:\\\\Users\\\\hslee\\\\.mujuco\\\\mujuco300\\\\bin;C:\\\\Program Files\\\\NVIDIA GPU Computing Toolkit\\\\CUDA\\\\v12.3\\\\bin;C:\\\\Program Files\\\\NVIDIA GPU Computing Toolkit\\\\CUDA\\\\v12.3\\\\include;:\\\\Users\\\\hslee\\\\AppData\\\\Roaming\\\\Python\\\\Python39;C:\\\\Users\\\\hslee\\\\AppData\\\\Local\\\\Programs\\\\Python\\\\Python39;C:\\\\Users\\\\hslee\\\\AppData\\\\Local\\\\Programs\\\\Python\\\\Python39\\\\Scripts;.'"
      ]
     },
     "execution_count": 38,
     "metadata": {},
     "output_type": "execute_result"
    }
   ],
   "source": [
    "# os: 환경 변수나 디렉터리\n",
    "import os\n",
    "os.environ # 시스템 정보\n",
    "os.environ['PATH'] # PATH 환경 변수 값"
   ]
  },
  {
   "cell_type": "code",
   "execution_count": 41,
   "metadata": {},
   "outputs": [
    {
     "data": {
      "text/plain": [
       "0"
      ]
     },
     "execution_count": 41,
     "metadata": {},
     "output_type": "execute_result"
    }
   ],
   "source": [
    "os.chdir\n",
    "os.getcwd() #지금의 디렉터리를 리턴\n",
    "os.system('dir')\n",
    "os.mkdir('디렉터리') #디렉터리 생성\n",
    "os.rmdir('디렉터리') #디렉터리 삭제\n",
    "os.remove('파일') # 파일 지우기\n",
    "os.rename(src, dst) #src라는 이름의 파일을 dst라는 이름으로 바꿈"
   ]
  },
  {
   "cell_type": "code",
   "execution_count": 51,
   "metadata": {},
   "outputs": [],
   "source": [
    "# zipfile: 여러 개의 파일을 zip 형식으로 합치거나 이를 해제할 때 사용하는 모듈\n",
    "\n",
    "import zipfile\n",
    "\n",
    "with zipfile.ZipFile('mytext.zip','w') as myzip:\n",
    "    myzip.write('a.txt')\n",
    "    myzip.write('b.txt')\n",
    "    myzip.write('c.txt')\n",
    "\n",
    "with zipfile.ZipFile('mytext.zip') as myzip:\n",
    "    myzip.extract('a.txt')"
   ]
  },
  {
   "cell_type": "code",
   "execution_count": 1,
   "metadata": {},
   "outputs": [],
   "source": [
    "# threading은 넘어감"
   ]
  },
  {
   "cell_type": "code",
   "execution_count": 2,
   "metadata": {},
   "outputs": [
    {
     "data": {
      "text/plain": [
       "(3, 'C:\\\\Users\\\\hslee\\\\AppData\\\\Local\\\\Temp\\\\tmp25dz2vh2')"
      ]
     },
     "execution_count": 2,
     "metadata": {},
     "output_type": "execute_result"
    }
   ],
   "source": [
    "# tempfile: 파일을 임시로 만들어서 사용할 때\n",
    "\n",
    "import tempfile\n",
    "filename = tempfile.mkstemp() # 오 신기하당\n",
    "filename"
   ]
  },
  {
   "cell_type": "code",
   "execution_count": 3,
   "metadata": {},
   "outputs": [],
   "source": [
    "f = tempfile.TemporaryFile() #임시 저장공간으로 사용할 파일 객체 리턴\n",
    "f.close() #이게 호출되면 자동으로 삭제"
   ]
  },
  {
   "cell_type": "code",
   "execution_count": 4,
   "metadata": {},
   "outputs": [
    {
     "name": "stdout",
     "output_type": "stream",
     "text": [
      "오류 발생\n"
     ]
    }
   ],
   "source": [
    "# traceback: 이것도 좀 많이 본 거 가타아. 오류 추적할 때 사용됨\n",
    "\n",
    "def a():\n",
    "    return 1/0\n",
    "\n",
    "def b():\n",
    "    a()\n",
    "\n",
    "def main():\n",
    "    try:\n",
    "        b()\n",
    "    except:\n",
    "        print('오류 발생')\n",
    "\n",
    "main()\n",
    "\n",
    "# 이러면 어디서 오류 발생했는지 잘 모르게됨"
   ]
  },
  {
   "cell_type": "code",
   "execution_count": 5,
   "metadata": {},
   "outputs": [
    {
     "name": "stdout",
     "output_type": "stream",
     "text": [
      "오류 발생\n",
      "Traceback (most recent call last):\n",
      "  File \"C:\\Users\\hslee\\AppData\\Local\\Temp\\ipykernel_37424\\2517162013.py\", line 11, in main\n",
      "    b()\n",
      "  File \"C:\\Users\\hslee\\AppData\\Local\\Temp\\ipykernel_37424\\2517162013.py\", line 7, in b\n",
      "    a()\n",
      "  File \"C:\\Users\\hslee\\AppData\\Local\\Temp\\ipykernel_37424\\2517162013.py\", line 4, in a\n",
      "    return 1/0\n",
      "ZeroDivisionError: division by zero\n",
      "\n"
     ]
    }
   ],
   "source": [
    "import traceback\n",
    "\n",
    "def a():\n",
    "    return 1/0\n",
    "\n",
    "def b():\n",
    "    a()\n",
    "\n",
    "def main():\n",
    "    try:\n",
    "        b()\n",
    "    except:\n",
    "        print('오류 발생')\n",
    "        print(traceback.format_exc())\n",
    "main()\n",
    "\n",
    "\"\"\"\n",
    "Traceback (most recent call last):\n",
    "  File \"C:\\Users\\hslee\\AppData\\Local\\Temp\\ipykernel_37424\\2517162013.py\", line 11, in main\n",
    "    b()\n",
    "  File \"C:\\Users\\hslee\\AppData\\Local\\Temp\\ipykernel_37424\\2517162013.py\", line 7, in b\n",
    "    a()\n",
    "  File \"C:\\Users\\hslee\\AppData\\Local\\Temp\\ipykernel_37424\\2517162013.py\", line 4, in a\n",
    "    return 1/0\n",
    "ZeroDivisionError: division by zero\n",
    "\"\"\"\n",
    "\n",
    "# main에서 함수 b() 호출했고 b에서 함수 a() 호출했고, a에서 1/0 을 리턴하려고 하는데 ZeroDivisionError 난 것을 확인 할 수 있음 "
   ]
  },
  {
   "cell_type": "code",
   "execution_count": 9,
   "metadata": {},
   "outputs": [
    {
     "data": {
      "text/plain": [
       "{'name': '홍길동', 'birth': '0525', 'age': 30}"
      ]
     },
     "execution_count": 9,
     "metadata": {},
     "output_type": "execute_result"
    }
   ],
   "source": [
    "# json: JSON 데이터를 쉽게 처리하고자 사용한 모듈\n",
    "\n",
    "\n",
    "import json\n",
    "with open('myinfo.json') as f:\n",
    "    data=json.load(f)\n",
    "\n",
    "type(data)\n",
    "data"
   ]
  },
  {
   "cell_type": "code",
   "execution_count": 14,
   "metadata": {},
   "outputs": [
    {
     "name": "stdout",
     "output_type": "stream",
     "text": [
      "{\n",
      "  \"name\": \"홍길동\",\n",
      "  \"birth\": \"0525\",\n",
      "  \"age\": 30\n",
      "}\n"
     ]
    },
    {
     "data": {
      "text/plain": [
       "'[1, 2, 3]'"
      ]
     },
     "execution_count": 14,
     "metadata": {},
     "output_type": "execute_result"
    }
   ],
   "source": [
    "import json\n",
    "d = {'name':'홍길동','birth':'0525','age':30}\n",
    "with open('myinfo.json', 'w') as f:\n",
    "    json.dump(data,f)\n",
    "\n",
    "# 이렇게 json을 dictionary 형태의 데이터로 서로 왔다갔다 할 수 있다는 게 중요한듯\n",
    "\n",
    "print(json.dumps(d, indent=2, ensure_ascii=False))\n",
    "\n",
    "json.dumps([1,2,3])\n",
    "json.dumps((1,2,3)) \n",
    "# 이렇게 리스트나 튜플도 json 문자열로 바꾸기 가능"
   ]
  },
  {
   "cell_type": "code",
   "execution_count": null,
   "metadata": {},
   "outputs": [],
   "source": [
    "# urllib: url을 읽고 분석할때 사용\n",
    "\n",
    "import urllib.request\n",
    "\n",
    "def get_naver(page):\n",
    "    resource = 'https://naver.com/{}'.format(page)"
   ]
  },
  {
   "cell_type": "code",
   "execution_count": null,
   "metadata": {},
   "outputs": [],
   "source": [
    "# webbrowswer: 시스템 브라우저를 호출할 때 사용"
   ]
  }
 ],
 "metadata": {
  "kernelspec": {
   "display_name": "new_project",
   "language": "python",
   "name": "python3"
  },
  "language_info": {
   "codemirror_mode": {
    "name": "ipython",
    "version": 3
   },
   "file_extension": ".py",
   "mimetype": "text/x-python",
   "name": "python",
   "nbconvert_exporter": "python",
   "pygments_lexer": "ipython3",
   "version": "3.8.19"
  }
 },
 "nbformat": 4,
 "nbformat_minor": 2
}
