{
 "cells": [
  {
   "cell_type": "code",
   "execution_count": 3,
   "metadata": {},
   "outputs": [
    {
     "data": {
      "text/plain": [
       "{'A', 'B', 'C', 'D'}"
      ]
     },
     "execution_count": 3,
     "metadata": {},
     "output_type": "execute_result"
    }
   ],
   "source": [
    "# 집합\n",
    "\n",
    "s1 = set([1,2,3])\n",
    "s1 # 오홍, 튜플처럼 생겼는데 ()가 아니라 dictionary처럼 {}로 묶네\n",
    "\n",
    "s2 = set(\"Hello\")\n",
    "s2 # 오 원소들만 있네, 중복을 고려해서 독립적인 원소만 뽑는구나\n",
    "\n",
    "s3 = set(\"BACD\")\n",
    "s3 #3 순서도 없네? 인덱싱이 안되겠네? 딕셔너리랑 비슷하네"
   ]
  },
  {
   "cell_type": "code",
   "execution_count": 7,
   "metadata": {},
   "outputs": [
    {
     "data": {
      "text/plain": [
       "1"
      ]
     },
     "execution_count": 7,
     "metadata": {},
     "output_type": "execute_result"
    }
   ],
   "source": [
    "s1 = set([1,2,3])\n",
    "l1 = list(s1) # 이렇게 리스트화 시킬 수도 있고\n",
    "l1\n",
    "\n",
    "l1[0] # 리스트로 변환했으니 인덱싱 할 수도 있네\n",
    "\n",
    "t1 = tuple(s1)\n",
    "t1\n",
    "t1[0] # 튜플로 변환했을 때도 인덱싱 할 수 있어"
   ]
  },
  {
   "cell_type": "code",
   "execution_count": 15,
   "metadata": {},
   "outputs": [
    {
     "data": {
      "text/plain": [
       "{1, 2, 3, 4, 5, 6, 7, 8, 9}"
      ]
     },
     "execution_count": 15,
     "metadata": {},
     "output_type": "execute_result"
    }
   ],
   "source": [
    "s1=set([1,2,3,4,5,6])\n",
    "s2=set([4,5,6,7,8,9])\n",
    "\n",
    "s1 & s2 # 두 집합의 교집합\n",
    "s1 | s2 # 합집합이네 백스래시 + 쉬프트\n",
    "s1 - s2 # 이렇게 차집합도 되고\n",
    "\n",
    "s1.add(7) #이렇게 원소 더할 수도 있고\n",
    "s1\n",
    "\n",
    "s1.update([8,9,10]) # 이렇게 update할수도 있ㅇ\n",
    "s1\n",
    "\n",
    "s1.remove(10) #이렇게 remove 할수도 있고\n",
    "s1"
   ]
  },
  {
   "cell_type": "code",
   "execution_count": 12,
   "metadata": {},
   "outputs": [
    {
     "data": {
      "text/plain": [
       "{'a': [1, 2, 3]}"
      ]
     },
     "execution_count": 12,
     "metadata": {},
     "output_type": "execute_result"
    }
   ],
   "source": [
    "# 딕셔너리 만들 때 주의사항\n",
    "\n",
    "# 1. 이렇게 key 값이 겹치면 뒤에 있는 걸로 override 됨\n",
    "a = {1:'a',1:'b'}\n",
    "a\n",
    "\n",
    "# 2. 리스트는 key 값으로 쓸 수 없음\n",
    "# 리스트는 변할 수 있는 자료형이므로 key로 적절하지 않음. 그래서 변하지 않는 튜플은 가능함\n",
    "# a = {[1,2]:'a'} \n",
    "b = {(1,2):'a'} \n",
    "b\n",
    "c = {'a': [1,2,3]} #이렇게 value에는 리스트를 넣을 수 있음\n",
    "c\n"
   ]
  },
  {
   "cell_type": "code",
   "execution_count": 50,
   "metadata": {},
   "outputs": [
    {
     "name": "stdout",
     "output_type": "stream",
     "text": [
      "None\n"
     ]
    },
    {
     "data": {
      "text/plain": [
       "False"
      ]
     },
     "execution_count": 50,
     "metadata": {},
     "output_type": "execute_result"
    }
   ],
   "source": [
    "# 딕셔너리 관련 함수\n",
    "\n",
    "dic = {'name':'pey','phone':'010-9999-1234','birth':'1118'}\n",
    "dic.keys() # 이렇게 dic.keys 객체를 리턴함, 리스트를 리턴하는 게 아님\n",
    "\n",
    "dic.values() # values 리턴\n",
    "dic.items() #튜플로 묶은 값 리턴\n",
    "\n",
    "dic.clear() #아예 다 제거\n",
    "\n",
    "dic = {'name':'pey','phone':'010-9999-1234','birth':'1118'}\n",
    "dic.get('name')\n",
    "print(dic.get('hyeonsu')) # key값이 없는 걸 get 하면 None이 print됨\n",
    "# dic['hyeonsu'] # 이렇게 쓰면 key 값이 없는 걸 찾을 때 key error가 발생함\n",
    "\n",
    "\n",
    "dic.get('hyeonsu', 'not here') #이러면 key 값이 없을 때 None 대신 뒤에 있는 게 출력됨\n",
    "dic.get('name', 'here') # 이러면 key 값이 있으므로 'here' 대신 value 값인 'pey'가 출력됨\n",
    "\n",
    "'name' in dic # 이러면 true를 반환함\n",
    "'hyeonsu' in dic # 'hyeonsu'라는 key 값이 없으므로 false를 리턴하고\n",
    "'pey' in dic # value를 넣어도 false 를 리턴함. key 값이 아니기 때문에"
   ]
  },
  {
   "cell_type": "code",
   "execution_count": 62,
   "metadata": {},
   "outputs": [
    {
     "name": "stdout",
     "output_type": "stream",
     "text": [
      "{'name': '홍길동', 'birth': 1128, 'age': 30}\n",
      "{'name': '홍길동', 'birth': 1128, 'age': 30, 'marriage': False}\n",
      "{'name': '홍길동', 'birth': 1128, 'age': 30, 'marriage': False, 'children': ['baby1', 'baby2']}\n",
      "{'name': '홍길동', 'birth': 1128, 'age': 30, 'marriage': False}\n"
     ]
    },
    {
     "data": {
      "text/plain": [
       "'홍길동'"
      ]
     },
     "execution_count": 62,
     "metadata": {},
     "output_type": "execute_result"
    }
   ],
   "source": [
    "# 1분 코딩\n",
    "a = {'name': '홍길동','birth': 1128,'age': 30}\n",
    "print(a)\n",
    "a.keys()\n",
    "a.values()\n",
    "a['marriage']= False\n",
    "print(a)\n",
    "\n",
    "a['children'] = ['baby1','baby2']\n",
    "print(a)\n",
    "del a['children']\n",
    "print(a)\n",
    "\n",
    "a.get('name')\n",
    "a['name']"
   ]
  }
 ],
 "metadata": {
  "kernelspec": {
   "display_name": "new_project",
   "language": "python",
   "name": "python3"
  },
  "language_info": {
   "codemirror_mode": {
    "name": "ipython",
    "version": 3
   },
   "file_extension": ".py",
   "mimetype": "text/x-python",
   "name": "python",
   "nbconvert_exporter": "python",
   "pygments_lexer": "ipython3",
   "version": "3.8.19"
  }
 },
 "nbformat": 4,
 "nbformat_minor": 2
}
