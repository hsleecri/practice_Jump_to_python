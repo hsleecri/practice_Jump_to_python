{
 "cells": [
  {
   "cell_type": "code",
   "execution_count": 20,
   "metadata": {},
   "outputs": [
    {
     "name": "stdout",
     "output_type": "stream",
     "text": [
      "[1, 3, 5, 7, 9]\n",
      "[1, 3, 'hyeonsu', ['hyeonsu', 1]]\n",
      "[1, 3, 5, 7]\n"
     ]
    },
    {
     "data": {
      "text/plain": [
       "[1, 3, 7]"
      ]
     },
     "execution_count": 20,
     "metadata": {},
     "output_type": "execute_result"
    }
   ],
   "source": [
    "# 리스트 자료형이랑 차이점\n",
    "# 리스트는 [], 튜플은 ()\n",
    "# 리스트는 요소값의 생성, 삭제, 수정이 가능하나, 튜플은 바꾸기 불가능\n",
    "\n",
    "t1=()\n",
    "t2=(1,) #1개 요소면 뒤에 쉼표 붙여야 함\n",
    "t3=1,2,4 #소괄호 생략 가능\n",
    "t4=(1,2,3)\n",
    "t5=('a','b',('ab','cd'))\n",
    "\n",
    "\"\"\"\n",
    "리스트랑 다르게 요소값 변화가 불가능함.\n",
    "따라서 요소값 변화를 바라지 않을 때는 무조건 튜플을 써야 함\n",
    "대신 값이 변경될 경우가 많은 경우에는 리스트를 쓰기\n",
    "\"\"\""
   ]
  },
  {
   "cell_type": "code",
   "execution_count": 5,
   "metadata": {},
   "outputs": [
    {
     "ename": "TypeError",
     "evalue": "'tuple' object doesn't support item deletion",
     "output_type": "error",
     "traceback": [
      "\u001b[1;31m---------------------------------------------------------------------------\u001b[0m",
      "\u001b[1;31mTypeError\u001b[0m                                 Traceback (most recent call last)",
      "Cell \u001b[1;32mIn[5], line 3\u001b[0m\n\u001b[0;32m      1\u001b[0m \u001b[38;5;66;03m#튜플 요소 바꿔보기\u001b[39;00m\n\u001b[0;32m      2\u001b[0m t1\u001b[38;5;241m=\u001b[39m(\u001b[38;5;241m1\u001b[39m,\u001b[38;5;241m2\u001b[39m,\u001b[38;5;124m'\u001b[39m\u001b[38;5;124ma\u001b[39m\u001b[38;5;124m'\u001b[39m,\u001b[38;5;124m'\u001b[39m\u001b[38;5;124mb\u001b[39m\u001b[38;5;124m'\u001b[39m)\n\u001b[1;32m----> 3\u001b[0m \u001b[38;5;28;01mdel\u001b[39;00m t1[\u001b[38;5;241m0\u001b[39m] \u001b[38;5;66;03m#안 되는 걸 알 수 있음\u001b[39;00m\n\u001b[0;32m      5\u001b[0m t1[\u001b[38;5;241m0\u001b[39m]\u001b[38;5;241m=\u001b[39m\u001b[38;5;241m3\u001b[39m\n",
      "\u001b[1;31mTypeError\u001b[0m: 'tuple' object doesn't support item deletion"
     ]
    }
   ],
   "source": [
    "#튜플 요소 바꿔보기\n",
    "t1=(1,2,'a','b')\n",
    "del t1[0] #안 되는 걸 알 수 있음\n",
    "\n",
    "t1[0]=3 #새로 assignment 도 안됨"
   ]
  },
  {
   "cell_type": "code",
   "execution_count": 12,
   "metadata": {},
   "outputs": [
    {
     "data": {
      "text/plain": [
       "(1, 2, 3, 4)"
      ]
     },
     "execution_count": 12,
     "metadata": {},
     "output_type": "execute_result"
    }
   ],
   "source": [
    "#튜플 인덱싱은 됨\n",
    "t1=(1,2,'a','b')\n",
    "t1[0] # 인덱싱은 잘됨\n",
    "t1[:-1] # 슬라이싱도 잘 됨\n",
    "\n",
    "t2=(3,4)\n",
    "t1+t2 # 이렇게 리스트처럼 더하는 것도 됨\n",
    "t3=t2*3\n",
    "t3 # 리스트처럼 곱하기도 되고\n",
    "len(t2) # 리스트처럼 길이 구할 수 도 있음\n",
    "\n",
    "# 1분 코딩\n",
    "t = 1,2,3\n",
    "t_add = 4,\n",
    "t_new = t+t_add\n",
    "t_new"
   ]
  }
 ],
 "metadata": {
  "kernelspec": {
   "display_name": "new_project",
   "language": "python",
   "name": "python3"
  },
  "language_info": {
   "codemirror_mode": {
    "name": "ipython",
    "version": 3
   },
   "file_extension": ".py",
   "mimetype": "text/x-python",
   "name": "python",
   "nbconvert_exporter": "python",
   "pygments_lexer": "ipython3",
   "version": "3.8.19"
  }
 },
 "nbformat": 4,
 "nbformat_minor": 2
}
