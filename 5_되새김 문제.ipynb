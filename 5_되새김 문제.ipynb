{
 "cells": [
  {
   "cell_type": "code",
   "execution_count": 1,
   "metadata": {},
   "outputs": [
    {
     "name": "stdout",
     "output_type": "stream",
     "text": [
      "3\n"
     ]
    }
   ],
   "source": [
    "# 1. 클래스 상속받고 매서드 추가하기 1\n",
    "\n",
    "class Calculator:\n",
    "    def __init__(self):\n",
    "        self.value = 0\n",
    "\n",
    "    def add(self, val):\n",
    "        self.value += val\n",
    "\n",
    "class UpgradeCalculator(Calculator):\n",
    "    def minus(self, val):\n",
    "        self.value -= val\n",
    "\n",
    "cal = UpgradeCalculator()\n",
    "cal.add(10)\n",
    "cal.minus(7)\n",
    "\n",
    "print(cal.value)\n",
    "# 굳"
   ]
  },
  {
   "cell_type": "code",
   "execution_count": 41,
   "metadata": {},
   "outputs": [
    {
     "name": "stdout",
     "output_type": "stream",
     "text": [
      "100\n"
     ]
    }
   ],
   "source": [
    "# 2. 클래스 상속받고 메서드 추가하기 2\n",
    "\n",
    "class MaxLimitCalculator(Calculator):\n",
    "    def add(self, val):\n",
    "        self.value += val\n",
    "        if self.value >= 100:\n",
    "            self.value = 100\n",
    "        else: \n",
    "            self.value\n",
    "\n",
    "cal = MaxLimitCalculator()\n",
    "cal.add(50)\n",
    "cal.add(60)\n",
    "\n",
    "print(cal.value)"
   ]
  },
  {
   "cell_type": "code",
   "execution_count": 42,
   "metadata": {},
   "outputs": [],
   "source": [
    "class MaxLimitCalculator(Calculator):\n",
    "    def add(self, val):\n",
    "        self.value += val\n",
    "        if self.value >= 100:\n",
    "            self.value = 100\n",
    "# 이렇게만 써도 된다네 else 대신에"
   ]
  },
  {
   "cell_type": "code",
   "execution_count": 56,
   "metadata": {},
   "outputs": [
    {
     "data": {
      "text/plain": [
       "True"
      ]
     },
     "execution_count": 56,
     "metadata": {},
     "output_type": "execute_result"
    }
   ],
   "source": [
    "# 3. 참과 거짓 예측하기\n",
    "\n",
    "all([1,2,abs(-3)-3]) # 아마도..3이 나올듯? 아 아니네 ㅋㅋ; 1, 2, 0 에서 모두 True 값을 가지냐 False 값을 가지냐고 물어보니까 False 인듯\n",
    "chr(ord('a')) == 'a' # 이걸 알아야해? ㅋㅋ"
   ]
  },
  {
   "cell_type": "code",
   "execution_count": 57,
   "metadata": {},
   "outputs": [
    {
     "data": {
      "text/plain": [
       "5.6667"
      ]
     },
     "execution_count": 57,
     "metadata": {},
     "output_type": "execute_result"
    }
   ],
   "source": [
    "# 8. 소수점 반올림하기\n",
    "\n",
    "value = 17/3\n",
    "round(value, ndigits=4)\n",
    "\n"
   ]
  },
  {
   "cell_type": "code",
   "execution_count": 58,
   "metadata": {},
   "outputs": [
    {
     "data": {
      "text/plain": [
       "['5_2 모듈.py', '5_3 패키지.py', '모듈_1.py', '모듈_2.py']"
      ]
     },
     "execution_count": 58,
     "metadata": {},
     "output_type": "execute_result"
    }
   ],
   "source": [
    "# 10. 파일 확장자가 .py인 파일만 찾기\n",
    "\n",
    "import glob\n",
    "glob.glob(pathname='*.py')"
   ]
  },
  {
   "cell_type": "code",
   "execution_count": 69,
   "metadata": {},
   "outputs": [
    {
     "data": {
      "text/plain": [
       "time.struct_time(tm_year=2024, tm_mon=7, tm_mday=25, tm_hour=17, tm_min=58, tm_sec=3, tm_wday=3, tm_yday=207, tm_isdst=0)"
      ]
     },
     "execution_count": 69,
     "metadata": {},
     "output_type": "execute_result"
    }
   ],
   "source": [
    "# 11. 날짜 표시하기\n",
    "import time\n",
    "time.time()\n",
    "time.asctime()\n",
    "time.localtime() # 아 몰라 ㅋㅋ"
   ]
  },
  {
   "cell_type": "code",
   "execution_count": 13,
   "metadata": {},
   "outputs": [
    {
     "data": {
      "text/plain": [
       "[15, 19, 11, 32, 1, 0]"
      ]
     },
     "execution_count": 13,
     "metadata": {},
     "output_type": "execute_result"
    }
   ],
   "source": [
    "# 12. 로또 번호 생성하기\n",
    "\n",
    "import random\n",
    "\n",
    "random.sample(range(45),6)"
   ]
  },
  {
   "cell_type": "code",
   "execution_count": 16,
   "metadata": {},
   "outputs": [
    {
     "name": "stdout",
     "output_type": "stream",
     "text": [
      "1051 days, 0:00:00\n"
     ]
    }
   ],
   "source": [
    "# 13.\n",
    "\n",
    "import datetime\n",
    "\n",
    "sis = datetime.datetime(1995, 11, 20)\n",
    "me = datetime.datetime(1998, 10, 6)\n",
    "\n",
    "days = me - sis\n",
    "print(days)"
   ]
  },
  {
   "cell_type": "code",
   "execution_count": 22,
   "metadata": {},
   "outputs": [
    {
     "name": "stdout",
     "output_type": "stream",
     "text": [
      "[('윤최현', 11.25), ('윤수현', 12.25), ('윤현서', 12.35), ('윤박현', 13.25), ('윤서현', 15.25), ('윤김현', 16.25), ('윤이현', 18.25)]\n"
     ]
    }
   ],
   "source": [
    "# 14.\n",
    "\n",
    "data = [('윤서현',15.25),\n",
    "        ('윤현서',12.35),\n",
    "        ('윤이현',18.25),\n",
    "        ('윤김현',16.25),\n",
    "        ('윤박현',13.25),\n",
    "        ('윤수현',12.25),\n",
    "        ('윤최현',11.25),\n",
    "        ]\n",
    "\n",
    "\n",
    "\n",
    "import operator\n",
    "\n",
    "result = sorted(data, key=operator.itemgetter(1))\n",
    "print(result)"
   ]
  },
  {
   "cell_type": "code",
   "execution_count": 53,
   "metadata": {},
   "outputs": [
    {
     "data": {
      "text/plain": [
       "1"
      ]
     },
     "execution_count": 53,
     "metadata": {},
     "output_type": "execute_result"
    }
   ],
   "source": [
    "# 15.\n",
    "\n",
    "word = 'abcd'\n",
    "letter = ['a','b','c','d']\n",
    "import itertools\n",
    "len(list(itertools.combinations(letter, 4)))"
   ]
  }
 ],
 "metadata": {
  "kernelspec": {
   "display_name": "new_project",
   "language": "python",
   "name": "python3"
  },
  "language_info": {
   "codemirror_mode": {
    "name": "ipython",
    "version": 3
   },
   "file_extension": ".py",
   "mimetype": "text/x-python",
   "name": "python",
   "nbconvert_exporter": "python",
   "pygments_lexer": "ipython3",
   "version": "3.8.19"
  }
 },
 "nbformat": 4,
 "nbformat_minor": 2
}
