{
 "cells": [
  {
   "cell_type": "code",
   "execution_count": 20,
   "metadata": {},
   "outputs": [
    {
     "name": "stdout",
     "output_type": "stream",
     "text": [
      "[1, 3, 5, 7, 9]\n",
      "[1, 3, 'hyeonsu', ['hyeonsu', 1]]\n",
      "[1, 3, 5, 7]\n"
     ]
    },
    {
     "data": {
      "text/plain": [
       "[1, 3, 7]"
      ]
     },
     "execution_count": 20,
     "metadata": {},
     "output_type": "execute_result"
    }
   ],
   "source": [
    "# 리스트자료형\n",
    "odd = [1, 3, 5, 7, 9]\n",
    "print(odd)\n",
    "\n",
    "#리스트 안에는 어떠한 자료형의 형태도 담을 수 있음\n",
    "\n",
    "list_1 = [1,3,\"hyeonsu\", ['hyeonsu',1]]\n",
    "print(list_1)\n",
    "\n",
    "# 인덱싱\n",
    "odd[0] # 1\n",
    "odd[0]+odd[2] # 6\n",
    "odd[-1]\n",
    "\n",
    "list_1[-1][0] #이렇게 리스트 안에 리스트도 두번 인덱싱 해서 할 수 있음\n",
    "\n",
    "# 슬라이싱\n",
    "odd[:2] # 오 이렇게 되면 리스트 형태로 나오는구나 약간 문자열이랑 비슷하네 :가 붙어야 하네\n",
    "\n",
    "a= [1,2,3,4,5]\n",
    "a[1:3]\n",
    "\n",
    "list_1[-1][:]\n",
    "\n",
    "even = [2, 4, 6, 8, 10]\n",
    "\n",
    "odd + even #아 요소들끼리 더해지는 게 아니라 원소들이 늘어나는 거구나\n",
    "odd *3 # 여기도 요소들끼리 곱해지는 게 아니라 원소 수가 늘어나는 거네 문자열처럼 \"abc\"*3 = \"abcabcabc\" 인것처럼\n",
    "\n",
    "# 문자열하고는 다르게 리스트의 값을 수정하거나 삭제할 수 있다네요\n",
    "odd[-1]=11 #9를 11로 수정\n",
    "odd\n",
    "\n",
    "del odd[-1]\n",
    "print(odd) #odd를 삭제했네\n",
    "\n",
    "del odd[-2:-1]\n",
    "odd # 2개가 사라질 수도 있고"
   ]
  },
  {
   "cell_type": "code",
   "execution_count": 50,
   "metadata": {},
   "outputs": [
    {
     "data": {
      "text/plain": [
       "[1, 2, 3, 4, 5, 6, 7, 8, 1, 2, 3, 4, 1, 2, 3, 4, 1, 2, 3, 4]"
      ]
     },
     "execution_count": 50,
     "metadata": {},
     "output_type": "execute_result"
    }
   ],
   "source": [
    "# 관련 함수들\n",
    "\n",
    "a = [1, 2, 3]\n",
    "a.append(4)\n",
    "a\n",
    "# append는 마지막 순서에 추가하는 거구나\n",
    "\n",
    "a.append([5,6])\n",
    "a\n",
    "# 이렇게 하나의 원소는 어떤 자료형의 형태라도 줄 수 있고\n",
    "\n",
    "b = [1, 4, 3, 2]\n",
    "b.sort()\n",
    "b\n",
    "# 오름차순으로 정리도 가능하고\n",
    "\n",
    "alphabet = ['a', 'e', 'z', 'g']\n",
    "alphabet.sort()\n",
    "alphabet #문자도 가능\n",
    "\n",
    "alphabet.reverse()\n",
    "alphabet #거꾸로도 가능\n",
    "\n",
    "alphabet.index('a') #이런식으로 순서 찾기도 가능\n",
    "\n",
    "list_1 = [1,2,3,4,5]\n",
    "list_1.insert(0,6)\n",
    "list_1 # 아 0자리에다가 6을 넣으라는 거구나\n",
    "\n",
    "list_1.remove(6) #6을 찾아서 없애주는 거고\n",
    "list_1\n",
    "\n",
    "list_1.pop() # 가장 마지막에 있는 원소를 pop out해주는 거고\n",
    "list_1 # 그래서 5가 없는 [1,2,3,4]가 나옴\n",
    "\n",
    "list_1.count(0) # 이 원소가 몇개 있는지 맞추는 것인듯\n",
    "list2=list_1*3\n",
    "list2.count(1)\n",
    "\n",
    "list_1.extend([5,6,7,8])\n",
    "list_1 #여기는 리스트에 리스트를 추가하는 것\n",
    "list_1.extend(list2)\n",
    "list_1"
   ]
  },
  {
   "cell_type": "code",
   "execution_count": null,
   "metadata": {},
   "outputs": [],
   "source": []
  }
 ],
 "metadata": {
  "kernelspec": {
   "display_name": "new_project",
   "language": "python",
   "name": "python3"
  },
  "language_info": {
   "codemirror_mode": {
    "name": "ipython",
    "version": 3
   },
   "file_extension": ".py",
   "mimetype": "text/x-python",
   "name": "python",
   "nbconvert_exporter": "python",
   "pygments_lexer": "ipython3",
   "version": "3.8.19"
  }
 },
 "nbformat": 4,
 "nbformat_minor": 2
}
