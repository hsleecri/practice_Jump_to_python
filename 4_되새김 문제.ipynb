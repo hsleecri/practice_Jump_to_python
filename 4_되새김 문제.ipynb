{
 "cells": [
  {
   "cell_type": "code",
   "execution_count": 2,
   "metadata": {},
   "outputs": [
    {
     "data": {
      "text/plain": [
       "True"
      ]
     },
     "execution_count": 2,
     "metadata": {},
     "output_type": "execute_result"
    }
   ],
   "source": [
    "# 1 홀수, 짝수 판별하기\n",
    "def is_odd(number):\n",
    "    if number % 2 ==1:\n",
    "        return True\n",
    "    else:\n",
    "        return False\n",
    "    \n",
    "is_odd(23)"
   ]
  },
  {
   "cell_type": "code",
   "execution_count": 4,
   "metadata": {},
   "outputs": [
    {
     "data": {
      "text/plain": [
       "3.0"
      ]
     },
     "execution_count": 4,
     "metadata": {},
     "output_type": "execute_result"
    }
   ],
   "source": [
    "# 2 모든 입력의 평균값 구하기\n",
    "def avg_numbers(*args):\n",
    "    result = 0\n",
    "    for i in args:\n",
    "        result +=i\n",
    "    return result/len(args)\n",
    "\n",
    "avg_numbers(1,2)\n",
    "avg_numbers(1,2,3,4,5)"
   ]
  },
  {
   "cell_type": "code",
   "execution_count": 5,
   "metadata": {},
   "outputs": [
    {
     "name": "stdout",
     "output_type": "stream",
     "text": [
      "두 수의 합은 11입니다\n"
     ]
    }
   ],
   "source": [
    "# 3 프로그램 오류 수정하기 1\n",
    "\n",
    "input1 = input('첫 번째 숫자를 입력하세요: ')\n",
    "input2 = input('두 번째 숫자를 입력하세요: ')\n",
    "\n",
    "total = input1 + input2 # 틀린 문장\n",
    "total = int(input1) + int(input2)\n",
    "\n",
    "print('두 수의 합은 %s입니다' %total)"
   ]
  },
  {
   "cell_type": "code",
   "execution_count": null,
   "metadata": {},
   "outputs": [],
   "source": [
    "# 4 출력 결과가 다른 것은?\n",
    "# 3번"
   ]
  },
  {
   "cell_type": "code",
   "execution_count": 7,
   "metadata": {},
   "outputs": [
    {
     "name": "stdout",
     "output_type": "stream",
     "text": [
      "life is too short\n"
     ]
    }
   ],
   "source": [
    "# 5 프로그램 오류 수정하기 2\n",
    "\n",
    "f1 = open('test.txt','w')\n",
    "f1.write('life is too short')\n",
    "f1.close() #이게 추가되어야 함. 저장이 안됐으므로\n",
    "\n",
    "f2 = open('test.txt','r')\n",
    "print(f2.read())"
   ]
  },
  {
   "cell_type": "code",
   "execution_count": 11,
   "metadata": {},
   "outputs": [
    {
     "ename": "UnsupportedOperation",
     "evalue": "not readable",
     "output_type": "error",
     "traceback": [
      "\u001b[1;31m---------------------------------------------------------------------------\u001b[0m",
      "\u001b[1;31mUnsupportedOperation\u001b[0m                      Traceback (most recent call last)",
      "Cell \u001b[1;32mIn[11], line 7\u001b[0m\n\u001b[0;32m      5\u001b[0m f\u001b[38;5;241m.\u001b[39mwrite(user_input)\n\u001b[0;32m      6\u001b[0m f\u001b[38;5;241m.\u001b[39mwrite(\u001b[38;5;124m'\u001b[39m\u001b[38;5;124ms\u001b[39m\u001b[38;5;124m'\u001b[39m)\n\u001b[1;32m----> 7\u001b[0m \u001b[38;5;28mprint\u001b[39m(\u001b[43mf\u001b[49m\u001b[38;5;241;43m.\u001b[39;49m\u001b[43mread\u001b[49m\u001b[43m(\u001b[49m\u001b[43m)\u001b[49m)\n\u001b[0;32m      8\u001b[0m f\u001b[38;5;241m.\u001b[39mclose()\n",
      "\u001b[1;31mUnsupportedOperation\u001b[0m: not readable"
     ]
    }
   ],
   "source": [
    "# 6 사용자 입력 저장하기\n",
    "\n",
    "user_input = input('저장할 내용을 입력하세요: ')\n",
    "f = open('test.txt','a')\n",
    "f.write(user_input)\n",
    "f.write('s')\n",
    "print(f.read())\n",
    "f.close()"
   ]
  },
  {
   "cell_type": "code",
   "execution_count": 17,
   "metadata": {},
   "outputs": [],
   "source": [
    "# 7 파일의 문자열 바꾸기\n",
    "\n",
    "f = open('test.txt','r')\n",
    "body = f.readline(-1)\n",
    "f.close()\n",
    "body = body.replace('java','python')\n",
    "f = open('test.txt','w')\n",
    "f.write(body)\n",
    "f.close()"
   ]
  }
 ],
 "metadata": {
  "kernelspec": {
   "display_name": "new_project",
   "language": "python",
   "name": "python3"
  },
  "language_info": {
   "codemirror_mode": {
    "name": "ipython",
    "version": 3
   },
   "file_extension": ".py",
   "mimetype": "text/x-python",
   "name": "python",
   "nbconvert_exporter": "python",
   "pygments_lexer": "ipython3",
   "version": "3.8.19"
  }
 },
 "nbformat": 4,
 "nbformat_minor": 2
}
