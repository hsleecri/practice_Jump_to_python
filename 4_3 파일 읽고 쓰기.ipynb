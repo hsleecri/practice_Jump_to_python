{
 "cells": [
  {
   "cell_type": "code",
   "execution_count": null,
   "metadata": {},
   "outputs": [],
   "source": [
    "# 파일을 통한 입출력 방법\n",
    "f = open('새파일.txt','w')\n",
    "f.close()\n",
    "\n",
    "# 오, open 으로 했는데 생성이 되네? 신기하당\n",
    "# 'w' 는 파일 열기모드\n",
    "\n",
    "\"\"\"\n",
    "r = 읽기 모드: 읽을 때 사용 \n",
    "w = 쓰기 모드: 파일에 내용을 쓸 때 사용 // 해당 파일이 이미 존재할 경우 원래 있던 내용이 전부 사라짐; 해당 파일이 존재하지 않으면 새로운 파일이 생성됨\n",
    "a = 추가 모드: 파일의 마지막에 새로운 내용을 추가할 때\n",
    "\"\"\""
   ]
  },
  {
   "cell_type": "code",
   "execution_count": null,
   "metadata": {},
   "outputs": [],
   "source": [
    "# 1분 코딩\n",
    "f = open(\"dummy/'text'.txt\", 'w')\n",
    "f.close()"
   ]
  },
  {
   "cell_type": "code",
   "execution_count": null,
   "metadata": {},
   "outputs": [],
   "source": [
    "# 파일을 쓰기 모드로 열어 내용 쓰기\n",
    "f = open(\"dummy/text.txt\", 'w')\n",
    "for i in range(1,11):\n",
    "    data = f\"{i}번째 줄입니다.\\n\"\n",
    "    f.write(data)\n",
    "f.close()"
   ]
  },
  {
   "cell_type": "code",
   "execution_count": null,
   "metadata": {},
   "outputs": [],
   "source": [
    "# 파일을 쓰기 모드로 열어 내용 쓰기\n",
    "f = open(\"dummy/text.txt\", 'w')\n",
    "for i in range(1,11):\n",
    "    data = f\"{i}번째 줄입니다.\\n\"\n",
    "    print(data)"
   ]
  },
  {
   "cell_type": "code",
   "execution_count": null,
   "metadata": {},
   "outputs": [],
   "source": [
    "# 파일을 읽는 여러가지 방법\n",
    "\n",
    "# 1. readaline 함수 이용하기\n",
    "f = open('dummy/text.txt','r')\n",
    "line = f.readline() # 가장 첫번째 줄을 읽음\n",
    "print(line)\n",
    "f.close"
   ]
  },
  {
   "cell_type": "code",
   "execution_count": null,
   "metadata": {},
   "outputs": [],
   "source": [
    "f = open('dummy/text.txt','r')\n",
    "while True:\n",
    "    line = f.readline() # 이러면 계속 iterate 함\n",
    "    if not line: break\n",
    "    print(line)\n",
    "f.close"
   ]
  },
  {
   "cell_type": "code",
   "execution_count": null,
   "metadata": {},
   "outputs": [],
   "source": [
    "# 2. readlines 함수 사용하기\n",
    "f = open('dummy/text.txt','r')\n",
    "lines = f.readlines() # 모든 줄을 읽어서 각 줄을 요소로 갖는 리스트를 리턴함\n",
    "for line in lines:\n",
    "    line = line.strip()\n",
    "    print(line)\n",
    "f.close()"
   ]
  },
  {
   "cell_type": "code",
   "execution_count": null,
   "metadata": {},
   "outputs": [],
   "source": [
    "# 3. read 함수 사용하기\n",
    "f = open('dummy/text.txt','r')\n",
    "data = f.read() # 전체 내용을 문자열로 리턴함\n",
    "print(data)\n",
    "f.close()"
   ]
  },
  {
   "cell_type": "code",
   "execution_count": null,
   "metadata": {},
   "outputs": [],
   "source": [
    "# 파일 객체를 for 문과 함께 사용하기\n",
    "f = open('dummy/text.txt','r')\n",
    "for line in f:\n",
    "    print(line)\n",
    "f.close()"
   ]
  },
  {
   "cell_type": "code",
   "execution_count": null,
   "metadata": {},
   "outputs": [],
   "source": [
    "# 파일에 새로운 내용 추가하기\n",
    "f = open('dummy/text.txt','a')\n",
    "for i in range(1,20):\n",
    "    data = f'{i}번째 줄입니다.\\n'\n",
    "    f.write(data)\n",
    "f.close()\n",
    "\n",
    "f = open('dummy/text.txt','r')\n",
    "for line in f:\n",
    "    print(line)"
   ]
  },
  {
   "cell_type": "code",
   "execution_count": null,
   "metadata": {},
   "outputs": [],
   "source": [
    "# with 문과 함께 사용하기\n",
    "f = open('foo.txt', 'w')\n",
    "f.write('life is too short, you need python')\n",
    "f.close()\n",
    "\n",
    "# 파일을 열고 닫아주어야 하는 과정이 항상 반복되는데, 이를 with 문으로 해결함\n",
    "\n",
    "with open('foo.txt', 'w') as f:\n",
    "    f.write('life is too short, you need python')"
   ]
  },
  {
   "cell_type": "code",
   "execution_count": null,
   "metadata": {},
   "outputs": [],
   "source": []
  }
 ],
 "metadata": {
  "kernelspec": {
   "display_name": "new_project",
   "language": "python",
   "name": "python3"
  },
  "language_info": {
   "codemirror_mode": {
    "name": "ipython",
    "version": 3
   },
   "file_extension": ".py",
   "mimetype": "text/x-python",
   "name": "python",
   "nbconvert_exporter": "python",
   "pygments_lexer": "ipython3",
   "version": "3.8.19"
  }
 },
 "nbformat": 4,
 "nbformat_minor": 2
}
