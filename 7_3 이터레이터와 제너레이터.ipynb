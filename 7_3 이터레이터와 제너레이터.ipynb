{
 "cells": [
  {
   "cell_type": "code",
   "execution_count": 1,
   "metadata": {},
   "outputs": [
    {
     "name": "stdout",
     "output_type": "stream",
     "text": [
      "1\n",
      "2\n",
      "3\n"
     ]
    }
   ],
   "source": [
    "for a in [1,2,3]:\n",
    "    print(a)\n",
    "#반복가능한 객체는 리스트 같이 for문 등의 반복 구문에 적용할 수 있는 객체"
   ]
  },
  {
   "cell_type": "code",
   "execution_count": 3,
   "metadata": {},
   "outputs": [
    {
     "ename": "TypeError",
     "evalue": "'list' object is not an iterator",
     "output_type": "error",
     "traceback": [
      "\u001b[1;31m---------------------------------------------------------------------------\u001b[0m",
      "\u001b[1;31mTypeError\u001b[0m                                 Traceback (most recent call last)",
      "Cell \u001b[1;32mIn[3], line 5\u001b[0m\n\u001b[0;32m      1\u001b[0m \u001b[38;5;66;03m# 이터레이터란, next 함수 호출 시 계속 그 다음을 리턴하는 객체\u001b[39;00m\n\u001b[0;32m      2\u001b[0m \u001b[38;5;66;03m# 그럼 리스트는 이터레이터일까?\u001b[39;00m\n\u001b[0;32m      4\u001b[0m a \u001b[38;5;241m=\u001b[39m [\u001b[38;5;241m1\u001b[39m,\u001b[38;5;241m2\u001b[39m,\u001b[38;5;241m3\u001b[39m]\n\u001b[1;32m----> 5\u001b[0m \u001b[38;5;28;43mnext\u001b[39;49m\u001b[43m(\u001b[49m\u001b[43ma\u001b[49m\u001b[43m)\u001b[49m\n\u001b[0;32m      6\u001b[0m \u001b[38;5;66;03m# list는 iterator가 아니라고 뜸\u001b[39;00m\n\u001b[0;32m      7\u001b[0m \u001b[38;5;66;03m# 즉, 반복 가능하다고 해서 이터레이터는 아님\u001b[39;00m\n",
      "\u001b[1;31mTypeError\u001b[0m: 'list' object is not an iterator"
     ]
    }
   ],
   "source": [
    "# 이터레이터란, next 함수 호출 시 계속 그 다음을 리턴하는 객체\n",
    "# 그럼 리스트는 이터레이터일까?\n",
    "\n",
    "a = [1,2,3]\n",
    "next(a)\n",
    "# list는 iterator가 아니라고 뜸\n",
    "# 즉, 반복 가능하다고 해서 이터레이터는 아님"
   ]
  },
  {
   "cell_type": "code",
   "execution_count": 14,
   "metadata": {},
   "outputs": [
    {
     "ename": "StopIteration",
     "evalue": "",
     "output_type": "error",
     "traceback": [
      "\u001b[1;31m---------------------------------------------------------------------------\u001b[0m",
      "\u001b[1;31mStopIteration\u001b[0m                             Traceback (most recent call last)",
      "Cell \u001b[1;32mIn[14], line 8\u001b[0m\n\u001b[0;32m      6\u001b[0m \u001b[38;5;28mnext\u001b[39m(ia) \u001b[38;5;66;03m# 2\u001b[39;00m\n\u001b[0;32m      7\u001b[0m \u001b[38;5;28mnext\u001b[39m(ia) \u001b[38;5;66;03m# 3\u001b[39;00m\n\u001b[1;32m----> 8\u001b[0m \u001b[38;5;28;43mnext\u001b[39;49m\u001b[43m(\u001b[49m\u001b[43mia\u001b[49m\u001b[43m)\u001b[49m\n\u001b[0;32m      9\u001b[0m \u001b[38;5;66;03m# stop iteration에러가 뜸, 리턴할 값이 없으므로\u001b[39;00m\n",
      "\u001b[1;31mStopIteration\u001b[0m: "
     ]
    }
   ],
   "source": [
    "a= [1,2,3]\n",
    "ia = iter(a)\n",
    "type(ia)\n",
    "\n",
    "next(ia) # 1\n",
    "next(ia) # 2\n",
    "next(ia) # 3\n",
    "next(ia)\n",
    "# stop iteration에러가 뜸, 리턴할 값이 없으므로"
   ]
  },
  {
   "cell_type": "code",
   "execution_count": 36,
   "metadata": {},
   "outputs": [
    {
     "name": "stdout",
     "output_type": "stream",
     "text": [
      "1\n",
      "2\n",
      "3\n"
     ]
    }
   ],
   "source": [
    "# 이터레이터의 값을 가져오는 가장 일반적인 방법은 for 문을 이용하는 것임\n",
    "a = [1,2,3]\n",
    "ia = iter(a)\n",
    "for i in ia:\n",
    "    print(i)\n",
    "for i in ia:\n",
    "    print(i)\n",
    "\n",
    "# 이터레이터는 for문 이용해서 반복하고 나면 다시 반복해도 그 값을 못 가져옴\n"
   ]
  },
  {
   "cell_type": "code",
   "execution_count": 37,
   "metadata": {},
   "outputs": [
    {
     "name": "stdout",
     "output_type": "stream",
     "text": [
      "1\n",
      "2\n",
      "3\n"
     ]
    }
   ],
   "source": [
    "# 클래스로 이터레이터 만들기\n",
    "\n",
    "class MyIterator:\n",
    "    def __init__(self, data):\n",
    "        self.data = data\n",
    "        self.position = 0\n",
    "    \n",
    "    def __iter__(self):\n",
    "        return self\n",
    "    \n",
    "    def __next__(self):\n",
    "        if self.position >= len(self.data):\n",
    "            raise StopIteration\n",
    "        result = self.data[self.position]\n",
    "        self.position += 1\n",
    "        return result\n",
    "    \n",
    "if __name__ == \"__main__\":\n",
    "    i = MyIterator([1,2,3])\n",
    "    for item in i:\n",
    "        print(item)\n",
    "\n",
    "# 클래스에 __iter__메서드를 구현하면 해당 클래스로 생성한 객체는 반복가능한 객체가 됨\n",
    "# __iter__메서드는 반복가능한 객체를 리턴하고"
   ]
  }
 ],
 "metadata": {
  "kernelspec": {
   "display_name": "new_project",
   "language": "python",
   "name": "python3"
  },
  "language_info": {
   "codemirror_mode": {
    "name": "ipython",
    "version": 3
   },
   "file_extension": ".py",
   "mimetype": "text/x-python",
   "name": "python",
   "nbconvert_exporter": "python",
   "pygments_lexer": "ipython3",
   "version": "3.8.19"
  }
 },
 "nbformat": 4,
 "nbformat_minor": 2
}
