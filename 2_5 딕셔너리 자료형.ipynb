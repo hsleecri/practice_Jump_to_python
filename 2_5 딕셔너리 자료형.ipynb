{
 "cells": [
  {
   "cell_type": "code",
   "execution_count": 20,
   "metadata": {},
   "outputs": [
    {
     "name": "stdout",
     "output_type": "stream",
     "text": [
      "[1, 3, 5, 7, 9]\n",
      "[1, 3, 'hyeonsu', ['hyeonsu', 1]]\n",
      "[1, 3, 5, 7]\n"
     ]
    },
    {
     "data": {
      "text/plain": [
       "[1, 3, 7]"
      ]
     },
     "execution_count": 20,
     "metadata": {},
     "output_type": "execute_result"
    }
   ],
   "source": [
    "# 딕셔너리는 리스트와 튜플처럼 '순차적으로' 요소값을 구하는 게 아닌, key 를 통해 value를 얻음\n",
    "# 즉, 어떤 요소의 값을 찾기 위해 사전의 내용을 순차적으로 모두 검색하는 게 아닌, key를 '검색'한 다음 value를 얻는 것\n",
    "# 딕셔너리의 기본 모습 {key1: value1, key2: value2, key3: value3, ...}\n",
    "\n",
    "dic = {'name':'pey','phone':'010-9999-1234','birth':'1118'}\n",
    "# 그러면 key는 name, phone, birth 가 되고, 각 key에 해당하는 value는 pey, 010-9999-1234, 1118 이 됨\n",
    "\n",
    "# key 값으로는 list도 넣을 수 있음\n",
    "a = {'a':[1,2,3]}"
   ]
  },
  {
   "cell_type": "code",
   "execution_count": 4,
   "metadata": {},
   "outputs": [
    {
     "data": {
      "text/plain": [
       "{2: 'b', 'name': 'pey'}"
      ]
     },
     "execution_count": 4,
     "metadata": {},
     "output_type": "execute_result"
    }
   ],
   "source": [
    "# 딕셔너리 쌍 추가, 삭제하기\n",
    "\n",
    "a = {1: 'a'}\n",
    "a[2]='b'\n",
    "a\n",
    "\n",
    "a['name']='pey'\n",
    "a\n",
    "# 되게 신기하네, 순서가 아니라 key 값을 새로 넣는 거네?\n",
    "\n",
    "del a[1]\n",
    "a\n",
    "# key를 삭제하면 key-value 쌍이 사라지는 거고\n"
   ]
  },
  {
   "cell_type": "code",
   "execution_count": 6,
   "metadata": {},
   "outputs": [
    {
     "data": {
      "text/plain": [
       "99"
      ]
     },
     "execution_count": 6,
     "metadata": {},
     "output_type": "execute_result"
    }
   ],
   "source": [
    "# 딕셔너리는 뭔가 매칭시켜야 하는 경우에 효과적임\n",
    "\n",
    "grade = {'pey':10, 'julliet': 99}\n",
    "grade['pey']\n",
    "grade['julliet']"
   ]
  },
  {
   "cell_type": "code",
   "execution_count": 12,
   "metadata": {},
   "outputs": [
    {
     "data": {
      "text/plain": [
       "{'a': [1, 2, 3]}"
      ]
     },
     "execution_count": 12,
     "metadata": {},
     "output_type": "execute_result"
    }
   ],
   "source": [
    "# 딕셔너리 만들 때 주의사항\n",
    "\n",
    "# 1. 이렇게 key 값이 겹치면 뒤에 있는 걸로 override 됨\n",
    "a = {1:'a',1:'b'}\n",
    "a\n",
    "\n",
    "# 2. 리스트는 key 값으로 쓸 수 없음\n",
    "# 리스트는 변할 수 있는 자료형이므로 key로 적절하지 않음. 그래서 변하지 않는 튜플은 가능함\n",
    "# a = {[1,2]:'a'} \n",
    "b = {(1,2):'a'} \n",
    "b\n",
    "c = {'a': [1,2,3]} #이렇게 value에는 리스트를 넣을 수 있음\n",
    "c\n"
   ]
  },
  {
   "cell_type": "code",
   "execution_count": 50,
   "metadata": {},
   "outputs": [
    {
     "name": "stdout",
     "output_type": "stream",
     "text": [
      "None\n"
     ]
    },
    {
     "data": {
      "text/plain": [
       "False"
      ]
     },
     "execution_count": 50,
     "metadata": {},
     "output_type": "execute_result"
    }
   ],
   "source": [
    "# 딕셔너리 관련 함수\n",
    "\n",
    "dic = {'name':'pey','phone':'010-9999-1234','birth':'1118'}\n",
    "dic.keys() # 이렇게 dic.keys 객체를 리턴함, 리스트를 리턴하는 게 아님\n",
    "\n",
    "dic.values() # values 리턴\n",
    "dic.items() #튜플로 묶은 값 리턴\n",
    "\n",
    "dic.clear() #아예 다 제거\n",
    "\n",
    "dic = {'name':'pey','phone':'010-9999-1234','birth':'1118'}\n",
    "dic.get('name')\n",
    "print(dic.get('hyeonsu')) # key값이 없는 걸 get 하면 None이 print됨\n",
    "# dic['hyeonsu'] # 이렇게 쓰면 key 값이 없는 걸 찾을 때 key error가 발생함\n",
    "\n",
    "\n",
    "dic.get('hyeonsu', 'not here') #이러면 key 값이 없을 때 None 대신 뒤에 있는 게 출력됨\n",
    "dic.get('name', 'here') # 이러면 key 값이 있으므로 'here' 대신 value 값인 'pey'가 출력됨\n",
    "\n",
    "'name' in dic # 이러면 true를 반환함\n",
    "'hyeonsu' in dic # 'hyeonsu'라는 key 값이 없으므로 false를 리턴하고\n",
    "'pey' in dic # value를 넣어도 false 를 리턴함. key 값이 아니기 때문에"
   ]
  },
  {
   "cell_type": "code",
   "execution_count": 62,
   "metadata": {},
   "outputs": [
    {
     "name": "stdout",
     "output_type": "stream",
     "text": [
      "{'name': '홍길동', 'birth': 1128, 'age': 30}\n",
      "{'name': '홍길동', 'birth': 1128, 'age': 30, 'marriage': False}\n",
      "{'name': '홍길동', 'birth': 1128, 'age': 30, 'marriage': False, 'children': ['baby1', 'baby2']}\n",
      "{'name': '홍길동', 'birth': 1128, 'age': 30, 'marriage': False}\n"
     ]
    },
    {
     "data": {
      "text/plain": [
       "'홍길동'"
      ]
     },
     "execution_count": 62,
     "metadata": {},
     "output_type": "execute_result"
    }
   ],
   "source": [
    "# 1분 코딩\n",
    "a = {'name': '홍길동','birth': 1128,'age': 30}\n",
    "print(a)\n",
    "a.keys()\n",
    "a.values()\n",
    "a['marriage']= False\n",
    "print(a)\n",
    "\n",
    "a['children'] = ['baby1','baby2']\n",
    "print(a)\n",
    "del a['children']\n",
    "print(a)\n",
    "\n",
    "a.get('name')\n",
    "a['name']"
   ]
  }
 ],
 "metadata": {
  "kernelspec": {
   "display_name": "new_project",
   "language": "python",
   "name": "python3"
  },
  "language_info": {
   "codemirror_mode": {
    "name": "ipython",
    "version": 3
   },
   "file_extension": ".py",
   "mimetype": "text/x-python",
   "name": "python",
   "nbconvert_exporter": "python",
   "pygments_lexer": "ipython3",
   "version": "3.8.19"
  }
 },
 "nbformat": 4,
 "nbformat_minor": 2
}
