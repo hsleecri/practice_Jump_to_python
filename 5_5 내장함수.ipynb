{
 "cells": [
  {
   "cell_type": "code",
   "execution_count": null,
   "metadata": {},
   "outputs": [],
   "source": [
    "# 이미 만들어진 것을 다시 만드는 것은 불필요한 행동이다.\n",
    "# 이미 검증되어있으니까.\n",
    "# 알파벳 순서들로 가볍게 정리해보자"
   ]
  },
  {
   "cell_type": "code",
   "execution_count": 2,
   "metadata": {},
   "outputs": [
    {
     "data": {
      "text/plain": [
       "(3, 3)"
      ]
     },
     "execution_count": 2,
     "metadata": {},
     "output_type": "execute_result"
    }
   ],
   "source": [
    "# abs 절댓값을 리턴\n",
    "abs(3), abs(-3)"
   ]
  },
  {
   "cell_type": "code",
   "execution_count": 6,
   "metadata": {},
   "outputs": [
    {
     "data": {
      "text/plain": [
       "(True, False, True)"
      ]
     },
     "execution_count": 6,
     "metadata": {},
     "output_type": "execute_result"
    }
   ],
   "source": [
    "# all: 반복 가능한 데이터 x를 입력값을 받고, 이 x의 요소가 모두 참이면 True, 거짓이면 Falae return\n",
    "# 반복 가능한 데이터는 for 문에서 사용할 수 있는 자료형: 리스트, 튜플, 문자열, 딕셔너리, 집합\n",
    "\n",
    "all([1,2,3]), all([0,1,2,3]) , all([]) # 0은 false 이니까"
   ]
  },
  {
   "cell_type": "code",
   "execution_count": 7,
   "metadata": {},
   "outputs": [
    {
     "data": {
      "text/plain": [
       "(True, True, False)"
      ]
     },
     "execution_count": 7,
     "metadata": {},
     "output_type": "execute_result"
    }
   ],
   "source": [
    "#any 반복가능한 데이터 x를 입력으로 받아 하나라도 참이 있으면 true return\n",
    "\n",
    "any([1,2,3]), any([0,1,2,3]) , any([]) # []면 참이 하나도 없으니까 false"
   ]
  },
  {
   "cell_type": "code",
   "execution_count": 16,
   "metadata": {},
   "outputs": [
    {
     "data": {
      "text/plain": [
       "'a'"
      ]
     },
     "execution_count": 16,
     "metadata": {},
     "output_type": "execute_result"
    }
   ],
   "source": [
    "# chr: 유니코드 숫자값을 입력받으면 해당 문자를 리턴함\n",
    "chr(44332)\n",
    "chr(97)"
   ]
  },
  {
   "cell_type": "code",
   "execution_count": 19,
   "metadata": {},
   "outputs": [
    {
     "data": {
      "text/plain": [
       "['__class__',\n",
       " '__contains__',\n",
       " '__delattr__',\n",
       " '__delitem__',\n",
       " '__dir__',\n",
       " '__doc__',\n",
       " '__eq__',\n",
       " '__format__',\n",
       " '__ge__',\n",
       " '__getattribute__',\n",
       " '__getitem__',\n",
       " '__gt__',\n",
       " '__hash__',\n",
       " '__init__',\n",
       " '__init_subclass__',\n",
       " '__iter__',\n",
       " '__le__',\n",
       " '__len__',\n",
       " '__lt__',\n",
       " '__ne__',\n",
       " '__new__',\n",
       " '__reduce__',\n",
       " '__reduce_ex__',\n",
       " '__repr__',\n",
       " '__reversed__',\n",
       " '__setattr__',\n",
       " '__setitem__',\n",
       " '__sizeof__',\n",
       " '__str__',\n",
       " '__subclasshook__',\n",
       " 'clear',\n",
       " 'copy',\n",
       " 'fromkeys',\n",
       " 'get',\n",
       " 'items',\n",
       " 'keys',\n",
       " 'pop',\n",
       " 'popitem',\n",
       " 'setdefault',\n",
       " 'update',\n",
       " 'values']"
      ]
     },
     "execution_count": 19,
     "metadata": {},
     "output_type": "execute_result"
    }
   ],
   "source": [
    "# dir 객체가 지닌 변수나 함수를 보여주는 함수\n",
    "dir([1,2,3]) #[1,2,3] 으로 사용할 수 있는 변수나 함수\n",
    "\n",
    "dir({1:'a'})"
   ]
  },
  {
   "cell_type": "code",
   "execution_count": 21,
   "metadata": {},
   "outputs": [
    {
     "name": "stdout",
     "output_type": "stream",
     "text": [
      "0 body\n",
      "1 foo\n",
      "2 bar\n"
     ]
    }
   ],
   "source": [
    "# divmod: 숫자 2개를 입력ㅂ으로 받아서 몫과 나머지를 튜플로 리턴\n",
    "divmod(7,3)\n",
    "\n",
    "# enumeratet 열거하다, 순서가 있는 데이터(리스트,튜플,문자열)를 입력으로 받아 인덱스 값을 포함하는 enumerate 객체를 리턴함\n",
    "# 주로 for 문과 같이 사용됨\n",
    "\n",
    "for i, name in enumerate(['body','foo','bar']):\n",
    "    print(i,name)\n",
    "\n",
    "# 이러면 해당 요소가 몇번째 인덱스인지도 알 수 있어서 좋네"
   ]
  },
  {
   "cell_type": "code",
   "execution_count": 23,
   "metadata": {},
   "outputs": [
    {
     "data": {
      "text/plain": [
       "'hihello'"
      ]
     },
     "execution_count": 23,
     "metadata": {},
     "output_type": "execute_result"
    }
   ],
   "source": [
    "# eval: 문자열로 구성된 표현식을 입력으로 받아 해당 문자열을 실행한 결과값을 리턴\n",
    "\n",
    "eval('1+2')\n",
    "eval('\"hi\"+\"hello\"')"
   ]
  },
  {
   "cell_type": "code",
   "execution_count": 27,
   "metadata": {},
   "outputs": [
    {
     "name": "stdout",
     "output_type": "stream",
     "text": [
      "[1, 2, 6]\n",
      "[1, 2, 6]\n"
     ]
    }
   ],
   "source": [
    "# filter: 함수와 반복 가능한 데이터를 받음. 반복 가능한 데이터의 요소 순서대로 함수를 호출했을 때 리턴값이 참인 것만 필터링해서 리턴함\n",
    "\n",
    "def positive(l):\n",
    "    result =[]\n",
    "    for i in l:\n",
    "        if i> 0:\n",
    "            result.append(i)\n",
    "    return result\n",
    "\n",
    "print(positive([1,-3,2,0,-5,6]))\n",
    "\n",
    "def positive(x):\n",
    "    return x >0\n",
    "\n",
    "print(list(filter(positive, ([1,-3,2,0,-5,6]))))"
   ]
  },
  {
   "cell_type": "code",
   "execution_count": 29,
   "metadata": {},
   "outputs": [
    {
     "data": {
      "text/plain": [
       "'0x3'"
      ]
     },
     "execution_count": 29,
     "metadata": {},
     "output_type": "execute_result"
    }
   ],
   "source": [
    "# hex: 정수를 입력받아 16진수 문자열로 리턴\n",
    "hex(34)\n",
    "hex(3)"
   ]
  },
  {
   "cell_type": "code",
   "execution_count": 33,
   "metadata": {},
   "outputs": [
    {
     "data": {
      "text/plain": [
       "(140708666158048, 140708666158048, 140708666158048)"
      ]
     },
     "execution_count": 33,
     "metadata": {},
     "output_type": "execute_result"
    }
   ],
   "source": [
    "# id: 객체를 입력받아 주소값을 리턴하는 함수\n",
    "a = 3\n",
    "b = a\n",
    "id(3), id(a), id(b)"
   ]
  },
  {
   "cell_type": "code",
   "execution_count": 35,
   "metadata": {},
   "outputs": [],
   "source": [
    "# input: 입력값을 스트링으로 받는 거\n",
    "\n",
    "a = input('enter: Hi')"
   ]
  },
  {
   "cell_type": "code",
   "execution_count": 38,
   "metadata": {},
   "outputs": [
    {
     "data": {
      "text/plain": [
       "(3, 3)"
      ]
     },
     "execution_count": 38,
     "metadata": {},
     "output_type": "execute_result"
    }
   ],
   "source": [
    "# int: 문자열 형태의 숫자나 소수점이 있는 숫자를 정수로 리턴, 정수가 입력들어오면 그대로 리턴\n",
    "int('3'), int(3.4) #반올림 안되고 그냥 정수만 표현함"
   ]
  },
  {
   "cell_type": "code",
   "execution_count": 3,
   "metadata": {},
   "outputs": [
    {
     "data": {
      "text/plain": [
       "(True, False)"
      ]
     },
     "execution_count": 3,
     "metadata": {},
     "output_type": "execute_result"
    }
   ],
   "source": [
    "# isinstance: 첫 번째 파라미터로 객체, 두번째 파라미터로 클래스를 받음.\n",
    "# 입력된 객체가 그 클래스의 인스턴스이면 True, 거짓이면 False를 리턴함\n",
    "\n",
    "class Person:pass\n",
    "\n",
    "a = Person()\n",
    "b = 1\n",
    "isinstance(a, Person), isinstance(b, Person)"
   ]
  },
  {
   "cell_type": "code",
   "execution_count": 11,
   "metadata": {},
   "outputs": [
    {
     "data": {
      "text/plain": [
       "[1, 2, 3]"
      ]
     },
     "execution_count": 11,
     "metadata": {},
     "output_type": "execute_result"
    }
   ],
   "source": [
    "# lene: 입력값 s의길이 (요소의 전체 개수)를 리턴\n",
    "len('python'), len([1,2,3]), len({1,2,3})\n",
    "\n",
    "# list: 반복가능한 데이터를 입력받아 리스트로 만들어 리턴하는 함수\n",
    "list('python')\n",
    "list((1,2,3))\n",
    "a = [1,2,3]\n",
    "b = list(a)\n",
    "b"
   ]
  },
  {
   "cell_type": "code",
   "execution_count": 14,
   "metadata": {},
   "outputs": [
    {
     "data": {
      "text/plain": [
       "[2, 4, 6, 8]"
      ]
     },
     "execution_count": 14,
     "metadata": {},
     "output_type": "execute_result"
    }
   ],
   "source": [
    "# map: 함수(f)와 반복 가능한 데이터를 입력으로 받고. 입력받은 데이터의 각 요소에 함수 f를 적용한 결과를 리턴함\n",
    "\n",
    "def two_times(num_list):\n",
    "    result = []\n",
    "    for number in num_list:\n",
    "        result.append(number*2)\n",
    "    return result\n",
    "\n",
    "result = two_times([1,2,3,4])\n",
    "result\n",
    "\n",
    "def two_times(x):\n",
    "    return x *2\n",
    "\n",
    "list(map(two_times, [1,2,3,4])) # 이거 잘하면 TS2NI에도 쓸 수 있을 거 같은데용"
   ]
  },
  {
   "cell_type": "code",
   "execution_count": 15,
   "metadata": {},
   "outputs": [
    {
     "data": {
      "text/plain": [
       "(3, 'y', 'h')"
      ]
     },
     "execution_count": 15,
     "metadata": {},
     "output_type": "execute_result"
    }
   ],
   "source": [
    "# max, min 반복가능한 데이터를 입력받아 최댓값, 최솟값을 리턴\n",
    "max([1,2,3]), max(\"python\"), min('python')"
   ]
  },
  {
   "cell_type": "code",
   "execution_count": 16,
   "metadata": {},
   "outputs": [
    {
     "ename": "FileNotFoundError",
     "evalue": "[Errno 2] No such file or directory: 'binary_file'",
     "output_type": "error",
     "traceback": [
      "\u001b[1;31m---------------------------------------------------------------------------\u001b[0m",
      "\u001b[1;31mFileNotFoundError\u001b[0m                         Traceback (most recent call last)",
      "Cell \u001b[1;32mIn[16], line 3\u001b[0m\n\u001b[0;32m      1\u001b[0m \u001b[38;5;66;03m# open: 파일 이름과 읽기 방법을 입력받아 파일 객체를 리턴함\u001b[39;00m\n\u001b[1;32m----> 3\u001b[0m f \u001b[38;5;241m=\u001b[39m \u001b[38;5;28;43mopen\u001b[39;49m\u001b[43m(\u001b[49m\u001b[38;5;124;43m'\u001b[39;49m\u001b[38;5;124;43mbinary_file\u001b[39;49m\u001b[38;5;124;43m'\u001b[39;49m\u001b[43m,\u001b[49m\u001b[38;5;124;43m'\u001b[39;49m\u001b[38;5;124;43mrb\u001b[39;49m\u001b[38;5;124;43m'\u001b[39;49m\u001b[43m)\u001b[49m\n",
      "File \u001b[1;32mc:\\Users\\hslee\\miniconda3\\envs\\new_project\\lib\\site-packages\\IPython\\core\\interactiveshell.py:284\u001b[0m, in \u001b[0;36m_modified_open\u001b[1;34m(file, *args, **kwargs)\u001b[0m\n\u001b[0;32m    277\u001b[0m \u001b[38;5;28;01mif\u001b[39;00m file \u001b[38;5;129;01min\u001b[39;00m {\u001b[38;5;241m0\u001b[39m, \u001b[38;5;241m1\u001b[39m, \u001b[38;5;241m2\u001b[39m}:\n\u001b[0;32m    278\u001b[0m     \u001b[38;5;28;01mraise\u001b[39;00m \u001b[38;5;167;01mValueError\u001b[39;00m(\n\u001b[0;32m    279\u001b[0m         \u001b[38;5;124mf\u001b[39m\u001b[38;5;124m\"\u001b[39m\u001b[38;5;124mIPython won\u001b[39m\u001b[38;5;124m'\u001b[39m\u001b[38;5;124mt let you open fd=\u001b[39m\u001b[38;5;132;01m{\u001b[39;00mfile\u001b[38;5;132;01m}\u001b[39;00m\u001b[38;5;124m by default \u001b[39m\u001b[38;5;124m\"\u001b[39m\n\u001b[0;32m    280\u001b[0m         \u001b[38;5;124m\"\u001b[39m\u001b[38;5;124mas it is likely to crash IPython. If you know what you are doing, \u001b[39m\u001b[38;5;124m\"\u001b[39m\n\u001b[0;32m    281\u001b[0m         \u001b[38;5;124m\"\u001b[39m\u001b[38;5;124myou can use builtins\u001b[39m\u001b[38;5;124m'\u001b[39m\u001b[38;5;124m open.\u001b[39m\u001b[38;5;124m\"\u001b[39m\n\u001b[0;32m    282\u001b[0m     )\n\u001b[1;32m--> 284\u001b[0m \u001b[38;5;28;01mreturn\u001b[39;00m \u001b[43mio_open\u001b[49m\u001b[43m(\u001b[49m\u001b[43mfile\u001b[49m\u001b[43m,\u001b[49m\u001b[43m \u001b[49m\u001b[38;5;241;43m*\u001b[39;49m\u001b[43margs\u001b[49m\u001b[43m,\u001b[49m\u001b[43m \u001b[49m\u001b[38;5;241;43m*\u001b[39;49m\u001b[38;5;241;43m*\u001b[39;49m\u001b[43mkwargs\u001b[49m\u001b[43m)\u001b[49m\n",
      "\u001b[1;31mFileNotFoundError\u001b[0m: [Errno 2] No such file or directory: 'binary_file'"
     ]
    }
   ],
   "source": [
    "# open: 파일 이름과 읽기 방법을 입력받아 파일 객체를 리턴함\n",
    "\n",
    "f = open('binary_file','rb')"
   ]
  },
  {
   "cell_type": "code",
   "execution_count": 17,
   "metadata": {},
   "outputs": [
    {
     "data": {
      "text/plain": [
       "16"
      ]
     },
     "execution_count": 17,
     "metadata": {},
     "output_type": "execute_result"
    }
   ],
   "source": [
    "# pow: 제곱한 것\n",
    "pow(2,4)"
   ]
  },
  {
   "cell_type": "code",
   "execution_count": 21,
   "metadata": {},
   "outputs": [
    {
     "data": {
      "text/plain": [
       "[1, 3]"
      ]
     },
     "execution_count": 21,
     "metadata": {},
     "output_type": "execute_result"
    }
   ],
   "source": [
    "# range: ([start,],stop,[,step]) 입력받은 숫자에 해당하는 범위값을 반복 가능한 객체로 만들어 리턴함\n",
    "\n",
    "list(range(5)) # 0부터 시작해서 5-1까지\n",
    "list(range(1,5)) #1부터 시작해서 5-1까지\n",
    "list(range(1,5,2)) #1부터 시작해서 5-1까지 스텝이 2니까 1과 3만 있음"
   ]
  },
  {
   "cell_type": "code",
   "execution_count": 24,
   "metadata": {},
   "outputs": [
    {
     "data": {
      "text/plain": [
       "(5, 4.23478)"
      ]
     },
     "execution_count": 24,
     "metadata": {},
     "output_type": "execute_result"
    }
   ],
   "source": [
    "# round: (number,[,ndigits]) 반올림하는 것\n",
    "\n",
    "round(4.6), round(4.2347777, 5) # 소수 5째까지 반올림"
   ]
  },
  {
   "cell_type": "code",
   "execution_count": 25,
   "metadata": {},
   "outputs": [
    {
     "data": {
      "text/plain": [
       "[1, 1, 2, 4, 5, 6, 15, 24, 34]"
      ]
     },
     "execution_count": 25,
     "metadata": {},
     "output_type": "execute_result"
    }
   ],
   "source": [
    "# sorted: 입력 데이터를 정렬하고 그 결과를 리스트로 리턴\n",
    "\n",
    "sorted([1,15,34,24,1,2,4,5,6])"
   ]
  },
  {
   "cell_type": "code",
   "execution_count": 27,
   "metadata": {},
   "outputs": [
    {
     "data": {
      "text/plain": [
       "(6, 12)"
      ]
     },
     "execution_count": 27,
     "metadata": {},
     "output_type": "execute_result"
    }
   ],
   "source": [
    "# str: str으로 변하하는 것\n",
    "\n",
    "# sum: 입력 데이터의 합을 리턴\n",
    "sum([1,2,3]), sum({1,5,6})"
   ]
  },
  {
   "cell_type": "code",
   "execution_count": 29,
   "metadata": {},
   "outputs": [
    {
     "data": {
      "text/plain": [
       "(('a', 'b', 'c'), (1, 2, 3, 4, 5))"
      ]
     },
     "execution_count": 29,
     "metadata": {},
     "output_type": "execute_result"
    }
   ],
   "source": [
    "# tuplel: 튜플로 만드는 것\n",
    "\n",
    "tuple('abc'), tuple([1,2,3,4,5])"
   ]
  },
  {
   "cell_type": "code",
   "execution_count": 31,
   "metadata": {},
   "outputs": [
    {
     "data": {
      "text/plain": [
       "(str, int, list)"
      ]
     },
     "execution_count": 31,
     "metadata": {},
     "output_type": "execute_result"
    }
   ],
   "source": [
    "# type: 입력값의 자료형이 무엇인지 알려주는 함수\n",
    "type('abc'), type(1), type([1,2,3])"
   ]
  },
  {
   "cell_type": "code",
   "execution_count": 35,
   "metadata": {},
   "outputs": [
    {
     "data": {
      "text/plain": [
       "[('a', 'd'), ('b', 'e'), ('c', 'f')]"
      ]
     },
     "execution_count": 35,
     "metadata": {},
     "output_type": "execute_result"
    }
   ],
   "source": [
    "# zip (*iterable) 동일한 개수로 이루어진 데이터들을 묶어서 리턴 \n",
    "# *iterable는 반복가능한 데이터를 여러 개 입력할 수 있다는 것\n",
    "list(zip([1,2,3],[4,5,6]))\n",
    "\n",
    "list(zip('abc','def'))"
   ]
  }
 ],
 "metadata": {
  "kernelspec": {
   "display_name": "new_project",
   "language": "python",
   "name": "python3"
  },
  "language_info": {
   "codemirror_mode": {
    "name": "ipython",
    "version": 3
   },
   "file_extension": ".py",
   "mimetype": "text/x-python",
   "name": "python",
   "nbconvert_exporter": "python",
   "pygments_lexer": "ipython3",
   "version": "3.8.19"
  }
 },
 "nbformat": 4,
 "nbformat_minor": 2
}
