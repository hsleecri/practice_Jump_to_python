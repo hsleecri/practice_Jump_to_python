{
 "cells": [
  {
   "cell_type": "code",
   "execution_count": 9,
   "metadata": {},
   "outputs": [
    {
     "name": "stdout",
     "output_type": "stream",
     "text": [
      "Nah\n"
     ]
    }
   ],
   "source": [
    "# 조건문에 비교 연산자 넣어주기\n",
    "\n",
    "x = 3\n",
    "y = 2\n",
    "\n",
    "x > y\n",
    "\n",
    "if x != y: # !=, ==, <, >= 등등\n",
    "    print(\"That's the answer\")\n",
    "else:\n",
    "    print(\"Nah\")"
   ]
  },
  {
   "cell_type": "code",
   "execution_count": 10,
   "metadata": {},
   "outputs": [
    {
     "name": "stdout",
     "output_type": "stream",
     "text": [
      "walk\n"
     ]
    }
   ],
   "source": [
    "money = 2000\n",
    "if money >= 3000:\n",
    "    print(\"Use taxi\")\n",
    "else:\n",
    "    print(\"walk\")"
   ]
  },
  {
   "cell_type": "code",
   "execution_count": 13,
   "metadata": {},
   "outputs": [
    {
     "name": "stdout",
     "output_type": "stream",
     "text": [
      "Use taxi\n"
     ]
    }
   ],
   "source": [
    "# and or not\n",
    "money = 2000\n",
    "card = True\n",
    "if money >= 3000 or card:\n",
    "    print(\"Use taxi\")\n",
    "else:\n",
    "    print(\"walk\")"
   ]
  },
  {
   "cell_type": "code",
   "execution_count": 14,
   "metadata": {},
   "outputs": [
    {
     "name": "stdout",
     "output_type": "stream",
     "text": [
      "Taxi\n"
     ]
    }
   ],
   "source": [
    "# and or not\n",
    "money = 2000\n",
    "card = True\n",
    "if not card:\n",
    "    print(\"Walk\")\n",
    "else:\n",
    "    print(\"Taxi\")"
   ]
  },
  {
   "cell_type": "code",
   "execution_count": 15,
   "metadata": {},
   "outputs": [
    {
     "name": "stdout",
     "output_type": "stream",
     "text": [
      "Use Taxi\n"
     ]
    }
   ],
   "source": [
    "# in 활용\n",
    "# 만약 주머니에 돈이 있으면 택시를 타고 가고, 없으면 걸어가라\n",
    "pocket = ['paper', 'cellphone','money']\n",
    "\n",
    "if \"money\" in pocket:\n",
    "    print(\"Use Taxi\")\n",
    "else:\n",
    "    print(\"Walk\")"
   ]
  },
  {
   "cell_type": "code",
   "execution_count": 16,
   "metadata": {},
   "outputs": [
    {
     "name": "stdout",
     "output_type": "stream",
     "text": [
      "Walk\n"
     ]
    }
   ],
   "source": [
    "# in 활용\n",
    "# 만약 주머니에 돈이 있으면 택시를 타고 가고, 없으면 걸어가라\n",
    "pocket = ['paper', 'cellphone','money']\n",
    "\n",
    "if not \"card\" in pocket:\n",
    "    print(\"Walk\")\n",
    "else:\n",
    "    print(\"Take a bus\")"
   ]
  },
  {
   "cell_type": "code",
   "execution_count": 18,
   "metadata": {},
   "outputs": [],
   "source": [
    "# 아무것도 안 하게 하는 법\n",
    "# 만약 주머니에 돈이 있으면 택시를 타고 가고, 없으면 걸어가라\n",
    "pocket = ['paper', 'cellphone','money']\n",
    "\n",
    "if not \"card\" in pocket:\n",
    "    pass\n",
    "else:\n",
    "    print(\"Take a bus\")\n",
    "\n",
    "# 아무런 결과값도 없음"
   ]
  },
  {
   "cell_type": "code",
   "execution_count": 21,
   "metadata": {},
   "outputs": [
    {
     "name": "stdout",
     "output_type": "stream",
     "text": [
      "Taxi too\n"
     ]
    }
   ],
   "source": [
    "# elif 활용\n",
    "# 주머니에 돈이 있으면 택시를 타고 가고, 돈은 없지만 카드가 있으면 택시를 타고 가고, 돈도 없고 카드도 없으면 걸어가라\n",
    "pocket = ['card', 'cellphone']\n",
    "\n",
    "if \"money\" in pocket:\n",
    "    print('Taxi')\n",
    "elif not \"money\" in pocket and \"card\" in pocket:\n",
    "    print(\"Taxi too\")\n",
    "else:\n",
    "    print(\"walk\")\n",
    "\n",
    "# 아무런 결과값도 없음"
   ]
  },
  {
   "cell_type": "code",
   "execution_count": null,
   "metadata": {},
   "outputs": [],
   "source": [
    "# if 문 한줄로 쓰기\n",
    "pocket = ['card', 'cellphone','money']\n",
    "if 'money' in pocket:\n",
    "    pass\n",
    "else:\n",
    "    print('card')\n",
    "\n",
    "if 'money' in pocket: pass\n",
    "else: print('card')\n",
    "# 이렇게 쓸 수도 있네용?\n",
    "\n",
    "score = 59\n",
    "if score >= 60:\n",
    "    message = 'success'\n",
    "else:\n",
    "    message = 'failure'\n",
    "\n",
    "message = \"success\" if score >= 60 else \"failure\"\n",
    "\n",
    "# 이렇게 한 줄로 적을 수도 있음\n",
    "# score 가 60이면 message는 'success'이고, else면 'failure'이다~"
   ]
  }
 ],
 "metadata": {
  "kernelspec": {
   "display_name": "new_project",
   "language": "python",
   "name": "python3"
  },
  "language_info": {
   "codemirror_mode": {
    "name": "ipython",
    "version": 3
   },
   "file_extension": ".py",
   "mimetype": "text/x-python",
   "name": "python",
   "nbconvert_exporter": "python",
   "pygments_lexer": "ipython3",
   "version": "3.8.19"
  }
 },
 "nbformat": 4,
 "nbformat_minor": 2
}
