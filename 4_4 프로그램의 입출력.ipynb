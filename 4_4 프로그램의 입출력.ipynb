{
 "cells": [
  {
   "cell_type": "code",
   "execution_count": 1,
   "metadata": {},
   "outputs": [
    {
     "name": "stdout",
     "output_type": "stream",
     "text": [
      "--f=c:\\Users\\hslee\\AppData\\Roaming\\jupyter\\runtime\\kernel-v2-273886xFG4ymcY2tV.json\n"
     ]
    }
   ],
   "source": [
    "# sys 모듈 사용하기\n",
    "# sys 모듈을 사용해서 프로그램에 인수(파라미터)를 전달해보자.\n",
    "import sys #이렇게 모듈 불러오고\n",
    "\n",
    "args = sys.argv[1:]\n",
    "for i in args:\n",
    "    print(i)"
   ]
  }
 ],
 "metadata": {
  "kernelspec": {
   "display_name": "new_project",
   "language": "python",
   "name": "python3"
  },
  "language_info": {
   "codemirror_mode": {
    "name": "ipython",
    "version": 3
   },
   "file_extension": ".py",
   "mimetype": "text/x-python",
   "name": "python",
   "nbconvert_exporter": "python",
   "pygments_lexer": "ipython3",
   "version": "3.8.19"
  }
 },
 "nbformat": 4,
 "nbformat_minor": 2
}
