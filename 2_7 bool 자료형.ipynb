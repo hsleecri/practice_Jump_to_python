{
 "cells": [
  {
   "cell_type": "code",
   "execution_count": 6,
   "metadata": {},
   "outputs": [
    {
     "data": {
      "text/plain": [
       "True"
      ]
     },
     "execution_count": 6,
     "metadata": {},
     "output_type": "execute_result"
    }
   ],
   "source": [
    "# bool 자료형\n",
    "# True 혹은 False 만 가질 수 있음 #대문자 필수\n",
    "\n",
    "a = True\n",
    "b = False\n",
    "type(a)\n",
    "\n",
    "1 == 2 #이것도 가능\n",
    "2 > 1"
   ]
  },
  {
   "cell_type": "code",
   "execution_count": 9,
   "metadata": {},
   "outputs": [
    {
     "data": {
      "text/plain": [
       "str"
      ]
     },
     "execution_count": 9,
     "metadata": {},
     "output_type": "execute_result"
    }
   ],
   "source": [
    "# 자료형마다 여러가지 true 와 false\n",
    "\"python\" # True\n",
    "\"\" # False\n",
    "[1,2,3] # True\n",
    "[] # False\n",
    "(1,2,3) # True\n",
    "[] # False\n",
    "{'a':1} # True\n",
    "{} # False\n",
    "1 # True\n",
    "0 # False\n",
    "None # False\n",
    "\n",
    "\"\"\"\n",
    "자료형마다 값이 비어있으면 False, 있으면 True\n",
    "\"\"\""
   ]
  },
  {
   "cell_type": "code",
   "execution_count": 10,
   "metadata": {},
   "outputs": [
    {
     "name": "stdout",
     "output_type": "stream",
     "text": [
      "4\n",
      "3\n",
      "2\n",
      "1\n"
     ]
    }
   ],
   "source": [
    "a = [1,2,3,4]\n",
    "while a: # = While True:\n",
    "    print (a.pop())\n",
    "\n",
    "# 자료형이 비면 False가 되니까 while 문을 이렇게도 쓸 수 있네"
   ]
  }
 ],
 "metadata": {
  "kernelspec": {
   "display_name": "new_project",
   "language": "python",
   "name": "python3"
  },
  "language_info": {
   "codemirror_mode": {
    "name": "ipython",
    "version": 3
   },
   "file_extension": ".py",
   "mimetype": "text/x-python",
   "name": "python",
   "nbconvert_exporter": "python",
   "pygments_lexer": "ipython3",
   "version": "3.8.19"
  }
 },
 "nbformat": 4,
 "nbformat_minor": 2
}
