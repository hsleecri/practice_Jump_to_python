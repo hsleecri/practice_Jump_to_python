{
 "cells": [
  {
   "cell_type": "code",
   "execution_count": 2,
   "metadata": {},
   "outputs": [
    {
     "name": "stdout",
     "output_type": "stream",
     "text": [
      "나무를 1번 찍었습니다.\n",
      "나무를 2번 찍었습니다.\n",
      "나무를 3번 찍었습니다.\n",
      "나무를 4번 찍었습니다.\n",
      "나무를 5번 찍었습니다.\n",
      "나무를 6번 찍었습니다.\n",
      "나무를 7번 찍었습니다.\n",
      "나무를 8번 찍었습니다.\n",
      "나무를 9번 찍었습니다.\n",
      "나무를 10번 찍었습니다.\n",
      "나무가 넘어갔습니다\n"
     ]
    }
   ],
   "source": [
    "# for 문\n",
    "\n",
    "# for 변수 in 리스트(or 튜플, 문자열):\n",
    "    # 수행 문장"
   ]
  },
  {
   "cell_type": "code",
   "execution_count": 2,
   "metadata": {},
   "outputs": [
    {
     "name": "stdout",
     "output_type": "stream",
     "text": [
      "1 2\n",
      "3 4\n",
      "5 6\n",
      "1 2\n",
      "3 4\n",
      "5 6\n"
     ]
    }
   ],
   "source": [
    "# 다양한 for 문의 사용\n",
    "a = [(1,2),(3,4),(5,6)] #리스트 안에 튜플이 원소로 있는 것\n",
    "for (first, last) in a: # first, last 변수들로 이루어진 튜플 정의 (first, last)\n",
    "    print(first, last)\n",
    "\n",
    "for (i,j) in a: # 이렇게 변수명을 간단하게 바꿔도 됨\n",
    "    print(i, j)"
   ]
  },
  {
   "cell_type": "code",
   "execution_count": 5,
   "metadata": {},
   "outputs": [
    {
     "name": "stdout",
     "output_type": "stream",
     "text": [
      "1번 학생의 점수는 90로 합격입니다\n",
      "2번 학생의 점수는 25로 불합격입니다\n",
      "3번 학생의 점수는 67로 합격입니다\n",
      "4번 학생의 점수는 45로 불합격입니다\n",
      "5번 학생의 점수는 80로 합격입니다\n"
     ]
    }
   ],
   "source": [
    "marks = [90, 25, 67, 45, 80]\n",
    "index = 0\n",
    "for i in marks:\n",
    "    index += 1\n",
    "    if i >=60:\n",
    "        print(f\"{index}번 학생의 점수는 {i}로 합격입니다\")\n",
    "    else:\n",
    "        print(f\"{index}번 학생의 점수는 {i}로 불합격입니다\")"
   ]
  },
  {
   "cell_type": "code",
   "execution_count": 9,
   "metadata": {},
   "outputs": [
    {
     "name": "stdout",
     "output_type": "stream",
     "text": [
      "1번 학생의 점수는 90로 합격입니다\n",
      "3번 학생의 점수는 67로 합격입니다\n",
      "5번 학생의 점수는 80로 합격입니다\n",
      "1번 학생의 점수는 90로 합격입니다\n",
      "3번 학생의 점수는 67로 합격입니다\n",
      "5번 학생의 점수는 80로 합격입니다\n"
     ]
    }
   ],
   "source": [
    "# for 문과 continue문\n",
    "# continue 문은 while 문에서 루프를 처음으로 보내버리는 문이었지\n",
    "# 60 점 이상인 사람에게는 축하 메세지 보내고, 나머지 사람에게는 아무런 메세지도 안하는 걸 짜보자\n",
    "\n",
    "marks = [90, 25, 67, 45, 80]\n",
    "index = 0\n",
    "for i in marks:\n",
    "    index += 1\n",
    "    if i >=60:\n",
    "        print(f\"{index}번 학생의 점수는 {i}로 합격입니다\")\n",
    "    else:\n",
    "        continue\n",
    "\n",
    "marks = [90, 25, 67, 45, 80]\n",
    "index = 0\n",
    "for i in marks:\n",
    "    index += 1\n",
    "    if i <60: continue\n",
    "    print(f\"{index}번 학생의 점수는 {i}로 합격입니다\")\n",
    "\n",
    "# 요런 식으로 좀더 깔끔하게도 가능\n"
   ]
  },
  {
   "cell_type": "code",
   "execution_count": 12,
   "metadata": {},
   "outputs": [
    {
     "name": "stdout",
     "output_type": "stream",
     "text": [
      "range(0, 10)\n",
      "range(1, 11)\n"
     ]
    }
   ],
   "source": [
    "# range 함수\n",
    "\n",
    "a = range(10) #0 부터 10-1 까지의 원소들\n",
    "print(a) # 0,1,2,3,4,5,6,7,8,9\n",
    "\n",
    "b = range(1,11) #1부터 11-1 까지의 원소들\n",
    "print(b) #1,2,3,4,5,6,7,8,9,10"
   ]
  },
  {
   "cell_type": "code",
   "execution_count": 13,
   "metadata": {},
   "outputs": [
    {
     "name": "stdout",
     "output_type": "stream",
     "text": [
      "55\n"
     ]
    }
   ],
   "source": [
    "# range 예시\n",
    "\n",
    "add = 0\n",
    "for i in range(1,11): #1부터 10까지\n",
    "    add+=i # 다 더 하기\n",
    "\n",
    "print(add)"
   ]
  },
  {
   "cell_type": "code",
   "execution_count": 14,
   "metadata": {},
   "outputs": [
    {
     "name": "stdout",
     "output_type": "stream",
     "text": [
      "5050\n"
     ]
    }
   ],
   "source": [
    "# 1분 코딩\n",
    "# 1부터 100까지 다 더하기\n",
    "\n",
    "add = 0\n",
    "for i in range(1,101): #1부터 100까지\n",
    "    add+=i # 다 더 하기\n",
    "\n",
    "print(add)"
   ]
  },
  {
   "cell_type": "code",
   "execution_count": 15,
   "metadata": {},
   "outputs": [
    {
     "name": "stdout",
     "output_type": "stream",
     "text": [
      "2 4 6 8 10 12 14 16 18 \n",
      "3 6 9 12 15 18 21 24 27 \n",
      "4 8 12 16 20 24 28 32 36 \n",
      "5 10 15 20 25 30 35 40 45 \n",
      "6 12 18 24 30 36 42 48 54 \n",
      "7 14 21 28 35 42 49 56 63 \n",
      "8 16 24 32 40 48 56 64 72 \n",
      "9 18 27 36 45 54 63 72 81 \n"
     ]
    }
   ],
   "source": [
    "# 구구단 만들기\n",
    "for i in range(2,10): #2단부터 9단까지\n",
    "    for j in range(1,10): #1부터 9까지 곱함\n",
    "        print(i*j, end = \" \") # end = \" \" 를 한 이유는 줄에 계속 출력하기 위해서\n",
    "    print('')"
   ]
  },
  {
   "cell_type": "code",
   "execution_count": 23,
   "metadata": {},
   "outputs": [
    {
     "data": {
      "text/plain": [
       "[6, 12]"
      ]
     },
     "execution_count": 23,
     "metadata": {},
     "output_type": "execute_result"
    }
   ],
   "source": [
    "# 리스트 컴프리헨션 list comprehension\n",
    "a = [1,2,3,4]\n",
    "result = []\n",
    "for num in a:\n",
    "    result.append(num*3)\n",
    "\n",
    "# 리스트 컴프리헨션 list comprehension 2\n",
    "a = [1,2,3,4]\n",
    "result2 = [num*3 for num in a]\n",
    "result2\n",
    "\n",
    "# 리스트 컴프리헨션 list comprehension 2 응용\n",
    "a = [1,2,3,4]\n",
    "result2 = [num*3 for num in a if num%2==0] #짝수만 담기\n",
    "result2"
   ]
  },
  {
   "cell_type": "code",
   "execution_count": null,
   "metadata": {},
   "outputs": [],
   "source": []
  }
 ],
 "metadata": {
  "kernelspec": {
   "display_name": "new_project",
   "language": "python",
   "name": "python3"
  },
  "language_info": {
   "codemirror_mode": {
    "name": "ipython",
    "version": 3
   },
   "file_extension": ".py",
   "mimetype": "text/x-python",
   "name": "python",
   "nbconvert_exporter": "python",
   "pygments_lexer": "ipython3",
   "version": "3.8.19"
  }
 },
 "nbformat": 4,
 "nbformat_minor": 2
}
