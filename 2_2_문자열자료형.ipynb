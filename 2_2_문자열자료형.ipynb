{
 "cells": [
  {
   "cell_type": "code",
   "execution_count": 7,
   "metadata": {},
   "outputs": [
    {
     "name": "stdout",
     "output_type": "stream",
     "text": [
      "\"Don't do it\", Hyeonsu said.\n",
      "\"Don't even try it\", teacher said\n"
     ]
    }
   ],
   "source": [
    "#역슬래시 사용해서 작은 따옴표와 큰 따옴표 문자열에 포함\n",
    "comment=\"\\\"Don't do it\\\", Hyeonsu said.\"\n",
    "print(comment)\n",
    "\n",
    "comment2 = '\"Don\\'t even try it\", teacher said'\n",
    "print(comment2)\n",
    "\n",
    "#아 알겠다~ 문자열로 만들고 싶은 letter에만 역슬래시 넣으면 되네"
   ]
  },
  {
   "cell_type": "code",
   "execution_count": 10,
   "metadata": {},
   "outputs": [
    {
     "name": "stdout",
     "output_type": "stream",
     "text": [
      "life is too short\n",
      "You need hyeonsu\n",
      "life is too short\n",
      "You need hyeonsu\n",
      "hyeonsu is god\n"
     ]
    }
   ],
   "source": [
    "# 여러줄의 문자열을 변수에 대입할 때\n",
    "multiline = \"life is too short\\nYou need hyeonsu\"\n",
    "print(multiline)\n",
    "\n",
    "multiline2 = \"life is too short\\nYou need hyeonsu\\nhyeonsu is god\"\n",
    "print(multiline2)\n",
    "\n",
    "#아 알겠다~ 역슬래시가 여러 기능이 있구나"
   ]
  },
  {
   "cell_type": "code",
   "execution_count": 11,
   "metadata": {},
   "outputs": [
    {
     "name": "stdout",
     "output_type": "stream",
     "text": [
      "\n",
      "안녕\n",
      "내가 누군지 아니\n",
      "이하늬다\n",
      "\n"
     ]
    }
   ],
   "source": [
    "multiline3 = \"\"\"\n",
    "안녕\n",
    "내가 누군지 아니\n",
    "이하늬다\n",
    "\"\"\"\n",
    "\n",
    "print(multiline3)\n",
    "\n",
    "#아 그냥 이렇게 하는 방법도 있구나"
   ]
  },
  {
   "cell_type": "code",
   "execution_count": 16,
   "metadata": {},
   "outputs": [
    {
     "data": {
      "text/plain": [
       "'python is not fun'"
      ]
     },
     "execution_count": 16,
     "metadata": {},
     "output_type": "execute_result"
    }
   ],
   "source": [
    "# 문자열 더하기\n",
    "head =\"python\"\n",
    "tail =\" is not fun\"\n",
    "head+tail\n",
    "#그냥 이렇게 바로 더해지네"
   ]
  },
  {
   "cell_type": "code",
   "execution_count": 17,
   "metadata": {},
   "outputs": [
    {
     "data": {
      "text/plain": [
       "'pythonpython'"
      ]
     },
     "execution_count": 17,
     "metadata": {},
     "output_type": "execute_result"
    }
   ],
   "source": [
    "a = 'python'\n",
    "a*2\n",
    "#여기도 바로 곱해지고"
   ]
  },
  {
   "cell_type": "code",
   "execution_count": 18,
   "metadata": {},
   "outputs": [
    {
     "name": "stdout",
     "output_type": "stream",
     "text": [
      "==================================================\n",
      "Ara you having fun?\n",
      "==================================================\n"
     ]
    }
   ],
   "source": [
    "print(\"=\"*50)\n",
    "print(\"Ara you having fun?\")\n",
    "print(\"=\"*50)\n",
    "\n",
    "# 아 이렇게 하니까 훨씬 편하네"
   ]
  },
  {
   "cell_type": "code",
   "execution_count": 21,
   "metadata": {},
   "outputs": [
    {
     "data": {
      "text/plain": [
       "18"
      ]
     },
     "execution_count": 21,
     "metadata": {},
     "output_type": "execute_result"
    }
   ],
   "source": [
    "apple = 'how are you today'\n",
    "len(apple)\n",
    "# 띄어쓰기도 포함되는 구나\n",
    "apple2 = 'how are you, today'\n",
    "len(apple2)\n",
    "# 쉼표도 포함"
   ]
  },
  {
   "cell_type": "code",
   "execution_count": 34,
   "metadata": {},
   "outputs": [
    {
     "name": "stdout",
     "output_type": "stream",
     "text": [
      "how were you, today\n"
     ]
    }
   ],
   "source": [
    "apple2[0:2] # 앞에서 두개\n",
    "apple2[-2] # 뒤에서 두번쨰\n",
    "apple2[:] #전체\n",
    "apple2[-2:] # 뒤에서 두번째부터 전체\n",
    "apple2[5:] # r부터 전체\n",
    "# 슬라이싱\n",
    "\n",
    "apple2[4:7] = 'were' # are을 were로 교체\n",
    "apple2\n",
    "#는 안되네? 문자열은 이렇게 일부분만 교체는 안되나봐\n",
    "\n",
    "new_apple = apple2[:4] + 'were' + apple2[7:]\n",
    "print(new_apple)\n",
    "#이런 식으로 새로 assign 해야 하는 구나"
   ]
  },
  {
   "cell_type": "code",
   "execution_count": 52,
   "metadata": {},
   "outputs": [
    {
     "data": {
      "text/plain": [
       "\"I've done 50% of my homework\""
      ]
     },
     "execution_count": 52,
     "metadata": {},
     "output_type": "execute_result"
    }
   ],
   "source": [
    "# 문자열 포매팅\n",
    "'I eat %d apples.' % 5\n",
    "'I eat %s apples.' % 'five'\n",
    "\n",
    "five = 5\n",
    "'I eat %d apples.' % five\n",
    "# 오 신기하다. %에 따라 변수를 밖으로 빼는 건가?\n",
    "# 그리고 %d 는 숫자, %s는 string만 되네\n",
    "# 변수 저장도 되고\n",
    "\n",
    "# 두 개 이상도 해볼까\n",
    "\n",
    "'I eat %d apples with %s' % (5, 'Hyeonsu') # 이럴때는 묶기\n",
    "\n",
    "# 굳이 숫자는 %d, 문자열은 %s로 할 필요없이 모두 %s로 해도 된다네\n",
    "\n",
    "'I eat %s apples with %s' % (5, 'Hyeonsu') # 이럴때는 묶기\n",
    "\n",
    "# %랑 섞어서 쓸 때는?\n",
    "\"I've done %s%% of my homework\" % 50\n",
    "\n",
    "# 아 백슬래시 \\랑 똑같이 문자로써 표현하고 싶으면 두 개 이어붙이면 되는구나!\n"
   ]
  },
  {
   "cell_type": "code",
   "execution_count": 7,
   "metadata": {},
   "outputs": [
    {
     "data": {
      "text/plain": [
       "15"
      ]
     },
     "execution_count": 7,
     "metadata": {},
     "output_type": "execute_result"
    }
   ],
   "source": [
    "# 정렬과 공백\n",
    "\n",
    "\"%10s\" % \"hi\"\n",
    "# 이러면 전체 길이를 10개에서 오른쪽에 hi를 한 거고\n",
    "\n",
    "\"%-10s\" % \"hi\"\n",
    "# 이러면 전체 길이를 10개에서 왼쪽에 hi를 한 거\n",
    "\n",
    "sentence= \"%-10s,Jane\" % \"Hi\"\n",
    "# 이러면 전체 길이 10개에서 왼쪽에 Hi가 있고, 오른쪽에는 ,Jane이 있음\n",
    "# 아, 아니구나. 10개에 왼쪽에 HI가 있고, \",Jane\" 5개가 있으니 총 15개네."
   ]
  },
  {
   "cell_type": "code",
   "execution_count": 12,
   "metadata": {},
   "outputs": [
    {
     "data": {
      "text/plain": [
       "'    3.4212'"
      ]
     },
     "execution_count": 12,
     "metadata": {},
     "output_type": "execute_result"
    }
   ],
   "source": [
    "#소수점으로 짜르는 거네, %f를 사용하는구나\n",
    "\"%0.4f\" % 3.14152827\n",
    "\"%10.4f\" % 3.4212334\n",
    "# 아 이거는 전체 길이를 10개로 두고 오른쪽에 소수점 4자리까지 붙인다는 거네"
   ]
  },
  {
   "cell_type": "code",
   "execution_count": 29,
   "metadata": {},
   "outputs": [
    {
     "data": {
      "text/plain": [
       "'I eat 10 apples with hyeonsu'"
      ]
     },
     "execution_count": 29,
     "metadata": {},
     "output_type": "execute_result"
    }
   ],
   "source": [
    "# format 함수 활용\n",
    "three = 3\n",
    "name = \"hyeonsu\"\n",
    "\"I eat {0} apples\".format(4) # 숫자도 가능\n",
    "\"I eat {0} apples\".format('five') #문자도 가능\n",
    "\"I eat {0} apples\".format(three) #변수도 가능\n",
    "\"I eat {0} apples with {1}\".format(three,\"hyeonsu\") #이렇게 2개도 가능\n",
    "\"I eat {0} apples with {1}\".format(three,name) #이렇게 2개도 가능\n",
    "\n",
    "#변수 이름으로 넣는 게 제일 좋아보이네\n",
    "\"I eat {three} apples with {name}\".format(three=10,name=\"hyeonsu\")\n",
    "\"I eat {three} apples with {name}\".format(three,name) #근데 이건 안되네."
   ]
  },
  {
   "cell_type": "code",
   "execution_count": 43,
   "metadata": {},
   "outputs": [
    {
     "data": {
      "text/plain": [
       "'hi'"
      ]
     },
     "execution_count": 43,
     "metadata": {},
     "output_type": "execute_result"
    }
   ],
   "source": [
    "# 정렬하는 것\n",
    "\"{0:<10}\".format(\"hi\") #아까 본거랑 좀 비슷하네?\n",
    "\"%-10s\" % \"hi\" # 요렇게 하면 둘이 똑같네.\n",
    "\"{0:>10}\".format(\"hi\") # 이러면 오른쪽 정렬\n",
    "\"{0:^10}\".format(\"hi\") # 이러면 가운데 정렬"
   ]
  },
  {
   "cell_type": "code",
   "execution_count": 77,
   "metadata": {},
   "outputs": [
    {
     "data": {
      "text/plain": [
       "'3.1235'"
      ]
     },
     "execution_count": 77,
     "metadata": {},
     "output_type": "execute_result"
    }
   ],
   "source": [
    "# 공백 채우기\n",
    "\"{0:=^10}\".format('hi') #10개의 길이를 만들고 hi를 가운데 정렬하고 나머지를 =로 채우는 거네?\n",
    "\"{0:!^10}\".format('hi') #10개의 길이를 만들고 hi를 가운데 정렬하고 나머지를 !로 채우는 거네?\n",
    "\n",
    "#소수점 표현하기\n",
    "y = 3.123456789\n",
    "\"{0:0.4f}\".format(y) #반올림 한 거 였네\n",
    "# \"{0:10.4f}\".format(y) #이러면 총 길이 10개 였던 거 같은데, 맞군\n",
    "\n",
    "#3 또는 문자 표현하기\n",
    "\n",
    "# \"{{ and }}\".format() #이렇게 연속해서 2개를 쓰면 되네 %나 \\ 나 {} 같이 특별한 코드들은"
   ]
  },
  {
   "cell_type": "code",
   "execution_count": 84,
   "metadata": {},
   "outputs": [
    {
     "data": {
      "text/plain": [
       "'23.123'"
      ]
     },
     "execution_count": 84,
     "metadata": {},
     "output_type": "execute_result"
    }
   ],
   "source": [
    "# f 문자열 포맷팅\n",
    "\n",
    "name = '홍길동'\n",
    "age = 30\n",
    "year = 2008\n",
    "f'나의 이름은 {name}입니다. 나이는 {age}입니다' # 아, 이거 엄청 편하네 f로 다는게 매우 편하다.\n",
    "f'나의 이름은 {name}입니다. {year}후에, 나는 {age+year}입니다' # 오~, 변수끼리 계산도 되네.\n",
    "\n",
    "d= {'name':'홍길동','age':30}\n",
    "f'나의 이름은 {d[\"name\"]}입니다. 나이는 {d[\"age\"]}입니다' # 음, 이렇게 딕셔너리 자료형에서 가져오는 것도 되네\n",
    "\n",
    "# 정렬\n",
    "f'{\"Hi\":<10}' # 10개 두고 왼쪽으로 정렬\n",
    "f'{\"Hi\":>10}' # 10개 두고 오른쪽으로 정렬\n",
    "f'{\"Hi\":^10}' # 10개 두고 가운데로 정렬\n",
    "\n",
    "# 소수점\n",
    "y = 23.123456789\n",
    "f'{y:0.5}' # 이건 약간 다르게 5자리가 아니라 총 5자리네"
   ]
  },
  {
   "cell_type": "code",
   "execution_count": 110,
   "metadata": {},
   "outputs": [
    {
     "data": {
      "text/plain": [
       "'!!!python!!!'"
      ]
     },
     "execution_count": 110,
     "metadata": {},
     "output_type": "execute_result"
    }
   ],
   "source": [
    "# 1분 코딩 format 함수나 f 포맷팅을 활용해 !!!python!!! 문자열을 출력해보기\n",
    "\n",
    "\"{0:!^12}\".format(\"python\") # 아 됐다.\n",
    "word = 'python'\n",
    "f'{word:!^12}'\n",
    "f'{\"python\":!^12}'"
   ]
  },
  {
   "cell_type": "code",
   "execution_count": 166,
   "metadata": {},
   "outputs": [
    {
     "name": "stdout",
     "output_type": "stream",
     "text": [
      "You Only Live Once\n"
     ]
    }
   ],
   "source": [
    "# 문자열 내장 함수들\n",
    "a = \"hobby\"\n",
    "a.count('b') #세는 거 같네\n",
    "\n",
    "a = \"i can bet you can count how many 'b' is in this sentence\"\n",
    "a.count('b')\n",
    "a.find('b') # 제일 처음 나온 위치\n",
    "a.find('k') #-1이 반환되면 없는 거\n",
    "# a.index('k') #얘는 없으면 에러 뜸\n",
    "\n",
    "#문자열 삽입\n",
    "\",\".join('abcd')\n",
    "\",\".join(['a','b','c','d']) \n",
    "\n",
    "# 공백지우기\n",
    "a =' hi '\n",
    "a.lstrip()\n",
    "a.rstrip()\n",
    "a.strip()\n",
    "a = \"You Only Live Once\"\n",
    "a.replace(\"You\",\"We\") #이걸로 string 자료형을 대체하는 거 있네\n",
    "a.split() # 얘는 단어들을 모두 리스트에 넣어버리네, 공백 (스페이스)를 기준으로 구분하고\n",
    "b= a.strip() #가운데 고백은 안 지워지네\n",
    "b.replace(\"You\",\"\\ You\")\n",
    "print(b)\n",
    "# b.split()"
   ]
  }
 ],
 "metadata": {
  "kernelspec": {
   "display_name": "new_project",
   "language": "python",
   "name": "python3"
  },
  "language_info": {
   "codemirror_mode": {
    "name": "ipython",
    "version": 3
   },
   "file_extension": ".py",
   "mimetype": "text/x-python",
   "name": "python",
   "nbconvert_exporter": "python",
   "pygments_lexer": "ipython3",
   "version": "3.8.19"
  }
 },
 "nbformat": 4,
 "nbformat_minor": 2
}
