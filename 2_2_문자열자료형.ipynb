{
 "cells": [
  {
   "cell_type": "code",
   "execution_count": 7,
   "metadata": {},
   "outputs": [
    {
     "name": "stdout",
     "output_type": "stream",
     "text": [
      "\"Don't do it\", Hyeonsu said.\n",
      "\"Don't even try it\", teacher said\n"
     ]
    }
   ],
   "source": [
    "#역슬래시 사용해서 작은 따옴표와 큰 따옴표 문자열에 포함\n",
    "comment=\"\\\"Don't do it\\\", Hyeonsu said.\"\n",
    "print(comment)\n",
    "\n",
    "comment2 = '\"Don\\'t even try it\", teacher said'\n",
    "print(comment2)\n",
    "\n",
    "#아 알겠다~ 문자열로 만들고 싶은 letter에만 역슬래시 넣으면 되네"
   ]
  },
  {
   "cell_type": "code",
   "execution_count": 10,
   "metadata": {},
   "outputs": [
    {
     "name": "stdout",
     "output_type": "stream",
     "text": [
      "life is too short\n",
      "You need hyeonsu\n",
      "life is too short\n",
      "You need hyeonsu\n",
      "hyeonsu is god\n"
     ]
    }
   ],
   "source": [
    "# 여러줄의 문자열을 변수에 대입할 때\n",
    "multiline = \"life is too short\\nYou need hyeonsu\"\n",
    "print(multiline)\n",
    "\n",
    "multiline2 = \"life is too short\\nYou need hyeonsu\\nhyeonsu is god\"\n",
    "print(multiline2)\n",
    "\n",
    "#아 알겠다~ 역슬래시가 여러 기능이 있구나"
   ]
  },
  {
   "cell_type": "code",
   "execution_count": 11,
   "metadata": {},
   "outputs": [
    {
     "name": "stdout",
     "output_type": "stream",
     "text": [
      "\n",
      "안녕\n",
      "내가 누군지 아니\n",
      "이하늬다\n",
      "\n"
     ]
    }
   ],
   "source": [
    "multiline3 = \"\"\"\n",
    "안녕\n",
    "내가 누군지 아니\n",
    "이하늬다\n",
    "\"\"\"\n",
    "\n",
    "print(multiline3)\n",
    "\n",
    "#아 그냥 이렇게 하는 방법도 있구나"
   ]
  },
  {
   "cell_type": "code",
   "execution_count": 16,
   "metadata": {},
   "outputs": [
    {
     "data": {
      "text/plain": [
       "'python is not fun'"
      ]
     },
     "execution_count": 16,
     "metadata": {},
     "output_type": "execute_result"
    }
   ],
   "source": [
    "# 문자열 더하기\n",
    "head =\"python\"\n",
    "tail =\" is not fun\"\n",
    "head+tail\n",
    "#그냥 이렇게 바로 더해지네"
   ]
  },
  {
   "cell_type": "code",
   "execution_count": 17,
   "metadata": {},
   "outputs": [
    {
     "data": {
      "text/plain": [
       "'pythonpython'"
      ]
     },
     "execution_count": 17,
     "metadata": {},
     "output_type": "execute_result"
    }
   ],
   "source": [
    "a = 'python'\n",
    "a*2\n",
    "#여기도 바로 곱해지고"
   ]
  },
  {
   "cell_type": "code",
   "execution_count": 18,
   "metadata": {},
   "outputs": [
    {
     "name": "stdout",
     "output_type": "stream",
     "text": [
      "==================================================\n",
      "Ara you having fun?\n",
      "==================================================\n"
     ]
    }
   ],
   "source": [
    "print(\"=\"*50)\n",
    "print(\"Ara you having fun?\")\n",
    "print(\"=\"*50)\n",
    "\n",
    "# 아 이렇게 하니까 훨씬 편하네"
   ]
  },
  {
   "cell_type": "code",
   "execution_count": 21,
   "metadata": {},
   "outputs": [
    {
     "data": {
      "text/plain": [
       "18"
      ]
     },
     "execution_count": 21,
     "metadata": {},
     "output_type": "execute_result"
    }
   ],
   "source": [
    "apple = 'how are you today'\n",
    "len(apple)\n",
    "# 띄어쓰기도 포함되는 구나\n",
    "apple2 = 'how are you, today'\n",
    "len(apple2)\n",
    "# 쉼표도 포함"
   ]
  },
  {
   "cell_type": "code",
   "execution_count": 34,
   "metadata": {},
   "outputs": [
    {
     "name": "stdout",
     "output_type": "stream",
     "text": [
      "how were you, today\n"
     ]
    }
   ],
   "source": [
    "apple2[0:2] # 앞에서 두개\n",
    "apple2[-2] # 뒤에서 두번쨰\n",
    "apple2[:] #전체\n",
    "apple2[-2:] # 뒤에서 두번째부터 전체\n",
    "apple2[5:] # r부터 전체\n",
    "# 슬라이싱\n",
    "\n",
    "apple2[4:7] = 'were' # are을 were로 교체\n",
    "apple2\n",
    "#는 안되네? 문자열은 이렇게 일부분만 교체는 안되나봐\n",
    "\n",
    "new_apple = apple2[:4] + 'were' + apple2[7:]\n",
    "print(new_apple)\n",
    "#이런 식으로 새로 assign 해야 하는 구나"
   ]
  },
  {
   "cell_type": "code",
   "execution_count": 52,
   "metadata": {},
   "outputs": [
    {
     "data": {
      "text/plain": [
       "\"I've done 50% of my homework\""
      ]
     },
     "execution_count": 52,
     "metadata": {},
     "output_type": "execute_result"
    }
   ],
   "source": [
    "# 문자열 포매팅\n",
    "'I eat %d apples.' % 5\n",
    "'I eat %s apples.' % 'five'\n",
    "\n",
    "five = 5\n",
    "'I eat %d apples.' % five\n",
    "# 오 신기하다. %에 따라 변수를 밖으로 빼는 건가?\n",
    "# 그리고 %d 는 숫자, %s는 string만 되네\n",
    "# 변수 저장도 되고\n",
    "\n",
    "# 두 개 이상도 해볼까\n",
    "\n",
    "'I eat %d apples with %s' % (5, 'Hyeonsu') # 이럴때는 묶기\n",
    "\n",
    "# 굳이 숫자는 %d, 문자열은 %s로 할 필용벗이 모두 %s로 해도 된다네\n",
    "\n",
    "'I eat %s apples with %s' % (5, 'Hyeonsu') # 이럴때는 묶기\n",
    "\n",
    "# %랑 섞어서 쓸 때는?\n",
    "\"I've done %s%% of my homework\" % 50\n",
    "\n",
    "# 아 백슬래시 \\랑 똑같이 문자로써 표현하고 싶으면 두 개 이어붙이면 되는구나!\n"
   ]
  },
  {
   "cell_type": "code",
   "execution_count": null,
   "metadata": {},
   "outputs": [],
   "source": [
    "# 66페이지부터 하기"
   ]
  }
 ],
 "metadata": {
  "kernelspec": {
   "display_name": "new_project",
   "language": "python",
   "name": "python3"
  },
  "language_info": {
   "codemirror_mode": {
    "name": "ipython",
    "version": 3
   },
   "file_extension": ".py",
   "mimetype": "text/x-python",
   "name": "python",
   "nbconvert_exporter": "python",
   "pygments_lexer": "ipython3",
   "version": "3.8.19"
  }
 },
 "nbformat": 4,
 "nbformat_minor": 2
}
