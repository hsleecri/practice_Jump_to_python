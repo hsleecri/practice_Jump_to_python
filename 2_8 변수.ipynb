{
 "cells": [
  {
   "cell_type": "code",
   "execution_count": 8,
   "metadata": {},
   "outputs": [
    {
     "data": {
      "text/plain": [
       "(1452257881600, 1452257511168)"
      ]
     },
     "execution_count": 8,
     "metadata": {},
     "output_type": "execute_result"
    }
   ],
   "source": [
    "# 변수\n",
    "a = [1,2,3]\n",
    "id(a) #변수 a의 메모리 주소\n",
    "\n",
    "b = a  # 변수 복사\n",
    "id(a), id(b) # 메모리 주소가 같은 걸로 보아 둘의 대상이 똑같다는 걸 알 수 있음\n",
    "\n",
    "a is b # True,\n",
    "\n"
   ]
  },
  {
   "cell_type": "code",
   "execution_count": 11,
   "metadata": {},
   "outputs": [
    {
     "data": {
      "text/plain": [
       "False"
      ]
     },
     "execution_count": 11,
     "metadata": {},
     "output_type": "execute_result"
    }
   ],
   "source": [
    "# 값은 같으나 서로 다른 객체로 만드는 법\n",
    "\n",
    "a = [1,2,3]\n",
    "c = a[:] #슬라이싱\n",
    "id(c), id(a) #이렇게 슬라이싱하면 다름\n",
    "\n",
    "from copy import copy\n",
    "b = copy(a)\n",
    "id(b), id(a) #이렇게도 copy가 됨\n",
    "b is a # False"
   ]
  },
  {
   "cell_type": "code",
   "execution_count": 13,
   "metadata": {},
   "outputs": [
    {
     "data": {
      "text/plain": [
       "False"
      ]
     },
     "execution_count": 13,
     "metadata": {},
     "output_type": "execute_result"
    }
   ],
   "source": [
    "a = [1,2,3]\n",
    "b= [1,2,3]\n",
    "a is b\n",
    "\n",
    "c = 1,2,3\n",
    "d = 1,2,3\n",
    "c is d\n",
    "# 자료형에 관계없이 서로 다른 메모리를 가르키므로 False"
   ]
  }
 ],
 "metadata": {
  "kernelspec": {
   "display_name": "new_project",
   "language": "python",
   "name": "python3"
  },
  "language_info": {
   "codemirror_mode": {
    "name": "ipython",
    "version": 3
   },
   "file_extension": ".py",
   "mimetype": "text/x-python",
   "name": "python",
   "nbconvert_exporter": "python",
   "pygments_lexer": "ipython3",
   "version": "3.8.19"
  }
 },
 "nbformat": 4,
 "nbformat_minor": 2
}
