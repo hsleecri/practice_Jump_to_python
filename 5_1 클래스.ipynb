{
 "cells": [
  {
   "cell_type": "code",
   "execution_count": 2,
   "metadata": {},
   "outputs": [
    {
     "name": "stdout",
     "output_type": "stream",
     "text": [
      "3\n",
      "7\n",
      "3\n",
      "7\n",
      "3\n",
      "7\n"
     ]
    }
   ],
   "source": [
    "# 클래스가 왜 필요한지 생각하게 되는 예시\n",
    "\n",
    "result = 0\n",
    "\n",
    "def add(num):\n",
    "    global result\n",
    "    result+=num\n",
    "    return result\n",
    "\n",
    "print(add(3))\n",
    "print(add(4)) #add(3)에서 사용한 변수, result를 기억하기 위해 def에 global 전역변수를 사용함\n",
    "\n",
    "# 2대의 계산기가 필요한 경우?\n",
    "result1 = 0\n",
    "result2 = 0\n",
    "\n",
    "def add1(num):\n",
    "    global result1\n",
    "    result1+=num\n",
    "    return result1\n",
    "\n",
    "def add2(num):\n",
    "    global result2\n",
    "    result2+=num\n",
    "    return result2\n",
    "\n",
    "print(add1(3))\n",
    "print(add1(4))\n",
    "print(add2(3))\n",
    "print(add2(4))\n",
    "\n",
    "# 각 계산기마다 별도의 전역변수를 만들어줘야함"
   ]
  },
  {
   "cell_type": "code",
   "execution_count": 24,
   "metadata": {},
   "outputs": [
    {
     "name": "stdout",
     "output_type": "stream",
     "text": [
      "3\n",
      "7\n",
      "3\n",
      "7\n"
     ]
    }
   ],
   "source": [
    "class Calculator:\n",
    "    def __init__(self):\n",
    "        self.result = 0\n",
    "\n",
    "    def add(self,num):\n",
    "        self.result += num\n",
    "        return self.result\n",
    "    \n",
    "cal1 = Calculator()\n",
    "cal2 = Calculator() #객체라고 부름. 인스턴스\n",
    "\n",
    "print(cal1.add(3))\n",
    "print(cal1.add(4))\n",
    "print(cal2.add(3))\n",
    "print(cal2.add(4))\n",
    "\n",
    "#뿐만 아니라 함수를 추가할 수도 있음"
   ]
  },
  {
   "cell_type": "code",
   "execution_count": 25,
   "metadata": {},
   "outputs": [],
   "source": [
    "class Cookie:\n",
    "    pass\n",
    "\n",
    "a = Cookie()\n",
    "b = Cookie()\n",
    "\n",
    "# 객체들을 여러개 만들 수 있음\n",
    "# a는 객체, a 객체는 Cookie의 인스턴스"
   ]
  },
  {
   "cell_type": "code",
   "execution_count": null,
   "metadata": {},
   "outputs": [],
   "source": [
    "# 사칙연산 클래스 만들기\n",
    "# 클래스로 만든 객체를 중심으로 어떤 식으로 동작하게 할지 미리 구사하고 생각한 것을 하나씩 만들면서 완성해 나가자.\n",
    "\"\"\"\n",
    "1. 사칙 연산을 하려면 두 숫자를 입력받아야하네! -> setdata 메서드\n",
    "2. 더하기 기능은? -> add 메서드\n",
    "3. 빼기 기능은? -> sub 메서드\n",
    "4. 곱하기 기능은? -> mul 메서드\n",
    "5. 나누기 기능은? -> div 메서드\n",
    "\"\"\"\n",
    "\n",
    "# 이 것들이 다 되도록 만든다고 해보자.\n",
    "a = Fourcal()\n",
    "a.setdata(4,2)\n",
    "a.add() # 6\n",
    "a.sub()\n",
    "a.mul()\n",
    "a.div()"
   ]
  },
  {
   "cell_type": "code",
   "execution_count": 2,
   "metadata": {},
   "outputs": [
    {
     "data": {
      "text/plain": [
       "2.0"
      ]
     },
     "execution_count": 2,
     "metadata": {},
     "output_type": "execute_result"
    }
   ],
   "source": [
    "class FourCal:\n",
    "    def __init__(self): #여기서 self는 인스턴스를 말함\n",
    "        self.result = 0\n",
    "\n",
    "    def setdata(self,num1,num2):\n",
    "        self.num1 = num1\n",
    "        self.num2 = num2\n",
    "\n",
    "    def add(self):\n",
    "        result = self.num1 + self.num2\n",
    "        return result\n",
    "    \n",
    "    def sub(self):\n",
    "        result = self.num1 - self.num2\n",
    "        return result\n",
    "        \n",
    "    def mul(self):\n",
    "        result = self.num1 * self.num2\n",
    "        return result\n",
    "\n",
    "    def div(self):\n",
    "        result = self.num1 / self.num2\n",
    "        if self.num2 == 0:\n",
    "            raise ZeroDivisionError\n",
    "        return result\n",
    "\n",
    "\n",
    "a = FourCal()\n",
    "a.setdata(4,2)\n",
    "a.add() # 6\n",
    "a.sub()\n",
    "a.mul()\n",
    "a.div()\n",
    "\n",
    "# 여기서 self는"
   ]
  },
  {
   "cell_type": "code",
   "execution_count": 67,
   "metadata": {},
   "outputs": [
    {
     "name": "stdout",
     "output_type": "stream",
     "text": [
      "2\n",
      "4\n"
     ]
    }
   ],
   "source": [
    "a.num1 #객체 변수가 저장됨\n",
    "\n",
    "a = FourCal()\n",
    "b = FourCal()\n",
    "a.setdata(2,4)\n",
    "b.setdata(4,6)\n",
    "print(a.num1)\n",
    "print(b.num1)\n",
    "# 두 객체(인스턴스)가 서로 영향을 주지 않는 독립적인 값을 갖는 변수임"
   ]
  },
  {
   "cell_type": "code",
   "execution_count": 3,
   "metadata": {},
   "outputs": [
    {
     "ename": "AttributeError",
     "evalue": "'FourCal' object has no attribute 'num1'",
     "output_type": "error",
     "traceback": [
      "\u001b[1;31m---------------------------------------------------------------------------\u001b[0m",
      "\u001b[1;31mAttributeError\u001b[0m                            Traceback (most recent call last)",
      "Cell \u001b[1;32mIn[3], line 2\u001b[0m\n\u001b[0;32m      1\u001b[0m c \u001b[38;5;241m=\u001b[39m FourCal()\n\u001b[1;32m----> 2\u001b[0m \u001b[43mc\u001b[49m\u001b[38;5;241;43m.\u001b[39;49m\u001b[43madd\u001b[49m\u001b[43m(\u001b[49m\u001b[43m)\u001b[49m\n",
      "Cell \u001b[1;32mIn[2], line 10\u001b[0m, in \u001b[0;36mFourCal.add\u001b[1;34m(self)\u001b[0m\n\u001b[0;32m      9\u001b[0m \u001b[38;5;28;01mdef\u001b[39;00m \u001b[38;5;21madd\u001b[39m(\u001b[38;5;28mself\u001b[39m):\n\u001b[1;32m---> 10\u001b[0m     result \u001b[38;5;241m=\u001b[39m \u001b[38;5;28;43mself\u001b[39;49m\u001b[38;5;241;43m.\u001b[39;49m\u001b[43mnum1\u001b[49m \u001b[38;5;241m+\u001b[39m \u001b[38;5;28mself\u001b[39m\u001b[38;5;241m.\u001b[39mnum2\n\u001b[0;32m     11\u001b[0m     \u001b[38;5;28;01mreturn\u001b[39;00m result\n",
      "\u001b[1;31mAttributeError\u001b[0m: 'FourCal' object has no attribute 'num1'"
     ]
    }
   ],
   "source": [
    "c = FourCal()\n",
    "c.add()\n",
    "\n",
    "\"\"\"\n",
    "---------------------------------------------------------------------------\n",
    "AttributeError                            Traceback (most recent call last)\n",
    "Cell In[3], line 2\n",
    "      1 c = FourCal()\n",
    "----> 2 c.add()\n",
    "\n",
    "Cell In[2], line 10\n",
    "      9 def add(self):\n",
    "---> 10     result = self.num1 + self.num2\n",
    "     11     return result\n",
    "\n",
    "AttributeError: 'FourCal' object has no attribute 'num1'\n",
    "\"\"\"\n",
    "\n",
    "# setdata 메서드를 실행시키지 않고서는 num1이라는 attirbute이 정의되지 않아서 에러가 발생함"
   ]
  },
  {
   "cell_type": "code",
   "execution_count": 71,
   "metadata": {},
   "outputs": [
    {
     "data": {
      "text/plain": [
       "0.5"
      ]
     },
     "execution_count": 71,
     "metadata": {},
     "output_type": "execute_result"
    }
   ],
   "source": [
    "# 생성자\n",
    "# 이렇게 객체 a의 객체변수 num1과 num2와 같은 초깃값을 설정해야 할 필요가 있을 때는\n",
    "# setdata 메서드를 호출해서 초깃값을 설정하기보단 생성자를 구현하는 게 안전한 방법임\n",
    "\n",
    "class FourCal:\n",
    "    def __init__(self,num1,num2):\n",
    "        self.num1 = num1\n",
    "        self.num2 = num2\n",
    "\n",
    "    def setdata(self,num1,num2):\n",
    "        self.num1 = num1\n",
    "        self.num2 = num2\n",
    "\n",
    "    def add(self):\n",
    "        result = self.num1 + self.num2\n",
    "        return result\n",
    "    \n",
    "    def div(self):\n",
    "        result = self.num1 / self.num2\n",
    "        return result\n",
    "    \n",
    "# a = FourCal()\n",
    "\n",
    "\"\"\"\n",
    "---------------------------------------------------------------------------\n",
    "TypeError                                 Traceback (most recent call last)\n",
    "Cell In[4], line 18\n",
    "     15         result = self.num1 + self.num2\n",
    "     16         return result\n",
    "---> 18 a = FourCal()\n",
    "\n",
    "TypeError: __init__() missing 2 required positional arguments: 'num1' and 'num2'\n",
    "\"\"\"\n",
    "# 이렇게 되면 num1 과 num2 arguments를 넣어줘야함!\n",
    "\n",
    "a = FourCal(2,4)\n",
    "a.num1 # 2, 객체변수\n",
    "a.add()\n",
    "a.div()"
   ]
  },
  {
   "cell_type": "code",
   "execution_count": 38,
   "metadata": {},
   "outputs": [
    {
     "ename": "ZeroDivisionError",
     "evalue": "division by zero",
     "output_type": "error",
     "traceback": [
      "\u001b[1;31m---------------------------------------------------------------------------\u001b[0m",
      "\u001b[1;31mZeroDivisionError\u001b[0m                         Traceback (most recent call last)",
      "Cell \u001b[1;32mIn[38], line 14\u001b[0m\n\u001b[0;32m     12\u001b[0m a\u001b[38;5;241m.\u001b[39mpow()\n\u001b[0;32m     13\u001b[0m a \u001b[38;5;241m=\u001b[39m MoreFourCal(\u001b[38;5;241m4\u001b[39m,\u001b[38;5;241m0\u001b[39m)\n\u001b[1;32m---> 14\u001b[0m \u001b[43ma\u001b[49m\u001b[38;5;241;43m.\u001b[39;49m\u001b[43mdiv\u001b[49m\u001b[43m(\u001b[49m\u001b[43m)\u001b[49m\n",
      "Cell \u001b[1;32mIn[36], line 19\u001b[0m, in \u001b[0;36mFourCal.div\u001b[1;34m(self)\u001b[0m\n\u001b[0;32m     18\u001b[0m \u001b[38;5;28;01mdef\u001b[39;00m \u001b[38;5;21mdiv\u001b[39m(\u001b[38;5;28mself\u001b[39m):\n\u001b[1;32m---> 19\u001b[0m     result \u001b[38;5;241m=\u001b[39m \u001b[38;5;28;43mself\u001b[39;49m\u001b[38;5;241;43m.\u001b[39;49m\u001b[43mnum1\u001b[49m\u001b[43m \u001b[49m\u001b[38;5;241;43m/\u001b[39;49m\u001b[43m \u001b[49m\u001b[38;5;28;43mself\u001b[39;49m\u001b[38;5;241;43m.\u001b[39;49m\u001b[43mnum2\u001b[49m\n\u001b[0;32m     20\u001b[0m     \u001b[38;5;28;01mreturn\u001b[39;00m result\n",
      "\u001b[1;31mZeroDivisionError\u001b[0m: division by zero"
     ]
    }
   ],
   "source": [
    "# 클래스의 상속\n",
    "# 어떤 클래스를 만들 때 다른 클래스의 기능을 물려받음!\n",
    "\n",
    "class MoreFourCal(FourCal):\n",
    "    def pow(self):\n",
    "        result = self.num1 ** self.num2\n",
    "        return result\n",
    "\n",
    "a = MoreFourCal(2,4)\n",
    "a.add()\n",
    "# 기존 클래스가 라이브러리 형태로 제공되거나 수정이 허용되지 않는 상황이라면 상속을 사용해야함\n",
    "a.pow()"
   ]
  },
  {
   "cell_type": "code",
   "execution_count": 82,
   "metadata": {},
   "outputs": [
    {
     "data": {
      "text/plain": [
       "0"
      ]
     },
     "execution_count": 82,
     "metadata": {},
     "output_type": "execute_result"
    }
   ],
   "source": [
    "# 매서드 오버라이팅\n",
    "# a = MoreFourCal(4,0)\n",
    "# a.div() # zerodivisonerror가 남\n",
    "\n",
    "class SafeFourCal(FourCal):\n",
    "    def div(self):\n",
    "        if self.num2 == 0:\n",
    "            return 0\n",
    "        else:\n",
    "            return self.num1 / self.num2\n",
    "        \n",
    "b = SafeFourCal(4,0)\n",
    "b.div()"
   ]
  },
  {
   "cell_type": "code",
   "execution_count": 91,
   "metadata": {},
   "outputs": [
    {
     "data": {
      "text/plain": [
       "'최'"
      ]
     },
     "execution_count": 91,
     "metadata": {},
     "output_type": "execute_result"
    }
   ],
   "source": [
    "# 클래스 변수\n",
    "# 클래스 안에 함수를 선언하는 것과 마찬가지로 클래스 안에 변수를 선언해서 생성함\n",
    "class Family:\n",
    "    lastname = \"김\"\n",
    "\n",
    "Family.lastname\n",
    "\n",
    "a = Family()\n",
    "b = Family()\n",
    "a.lastname\n",
    "b.lastname\n",
    "Family.lastname = '박'\n",
    "a.lastname\n",
    "\n",
    "# 객체변수와 달리 클래스 변수는 클래스로 만든 \"모든 객체\"에 공유됨!!\n",
    "\n",
    "# 객체변수구ㅏ 가장 중요함\n",
    "\n",
    "a.lastname = '최'\n",
    "a.lastname # 객체변수는 클래스변수랑 독립적이라서 얘는 최로 뜨고\n",
    "# Family.lastname #얘는 박이라고 뜸"
   ]
  }
 ],
 "metadata": {
  "kernelspec": {
   "display_name": "new_project",
   "language": "python",
   "name": "python3"
  },
  "language_info": {
   "codemirror_mode": {
    "name": "ipython",
    "version": 3
   },
   "file_extension": ".py",
   "mimetype": "text/x-python",
   "name": "python",
   "nbconvert_exporter": "python",
   "pygments_lexer": "ipython3",
   "version": "3.8.19"
  }
 },
 "nbformat": 4,
 "nbformat_minor": 2
}
